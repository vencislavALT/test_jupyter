{
  "nbformat": 4,
  "nbformat_minor": 0,
  "metadata": {
    "colab": {
      "name": "Rosemary.ipynb",
      "version": "0.3.2",
      "provenance": [],
      "include_colab_link": true
    },
    "kernelspec": {
      "name": "python3",
      "display_name": "Python 3"
    }
  },
  "cells": [
    {
      "cell_type": "markdown",
      "metadata": {
        "id": "view-in-github",
        "colab_type": "text"
      },
      "source": [
        "<a href=\"https://colab.research.google.com/github/vencislavALT/test_jupyter/blob/master/1.TypesAndOperations/Rosemary.ipynb\" target=\"_parent\"><img src=\"https://colab.research.google.com/assets/colab-badge.svg\" alt=\"Open In Colab\"/></a>"
      ]
    },
    {
      "cell_type": "markdown",
      "metadata": {
        "id": "Epec4x-uYoH-",
        "colab_type": "text"
      },
      "source": [
        "# Задачи"
      ]
    },
    {
      "cell_type": "markdown",
      "metadata": {
        "id": "KQFdQE0GYke9",
        "colab_type": "text"
      },
      "source": [
        "Разменете следните две стойности (да се чете - нека a започне да сочи към **обекта** 10, а b към **обекта** 5!):"
      ]
    },
    {
      "cell_type": "code",
      "metadata": {
        "id": "kePKKXLhYVIc",
        "colab_type": "code",
        "colab": {}
      },
      "source": [
        "a = 5\n",
        "b = 10\n",
        "\n",
        "# Your code\n",
        "a, b = b, a\n",
        "# End\n",
        "\n",
        "print(a) # 10\n",
        "print(b) # 5"
      ],
      "execution_count": 0,
      "outputs": []
    },
    {
      "cell_type": "markdown",
      "metadata": {
        "id": "qrQJ3JdKZKhx",
        "colab_type": "text"
      },
      "source": [
        "Направете всички букви в следният стринг главни:"
      ]
    },
    {
      "cell_type": "code",
      "metadata": {
        "id": "K_VlHLJZZiyg",
        "colab_type": "code",
        "colab": {}
      },
      "source": [
        "abbreviations = 'dmg Scag ua XgE'\n",
        "\n",
        "# Your code\n",
        "abbreviations = abbreviations.upper()\n",
        "# End\n",
        "\n",
        "print('All uppercase: {}'.format(abbreviations)) # All uppercase: DMG SCAG UA XGE"
      ],
      "execution_count": 0,
      "outputs": []
    },
    {
      "cell_type": "markdown",
      "metadata": {
        "id": "QO-Jw_DRbVqU",
        "colab_type": "text"
      },
      "source": [
        "Заместете символът \"*\" с \"e\":"
      ]
    },
    {
      "cell_type": "code",
      "metadata": {
        "id": "xFTfGR7ZbV3T",
        "colab_type": "code",
        "colab": {}
      },
      "source": [
        "sentence = 'H* l*d th*m, th*n th*y y*ll*d r*d!'\n",
        "\n",
        "# Your code\n",
        "sentence = sentence.replace('*', 'e')\n",
        "# End\n",
        "\n",
        "print(sentence) # He led them, then they yelled red! "
      ],
      "execution_count": 0,
      "outputs": []
    }
  ]
}