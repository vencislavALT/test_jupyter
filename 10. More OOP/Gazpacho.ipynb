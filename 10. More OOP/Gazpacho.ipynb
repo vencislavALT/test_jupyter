{
  "nbformat": 4,
  "nbformat_minor": 0,
  "metadata": {
    "colab": {
      "name": "Gazpacho.ipynb",
      "version": "0.3.2",
      "provenance": [],
      "include_colab_link": true
    },
    "kernelspec": {
      "name": "python3",
      "display_name": "Python 3"
    }
  },
  "cells": [
    {
      "cell_type": "markdown",
      "metadata": {
        "id": "view-in-github",
        "colab_type": "text"
      },
      "source": [
        "<a href=\"https://colab.research.google.com/github/vencislavALT/test_jupyter/blob/master/10.%20More%20OOP/Gazpacho.ipynb\" target=\"_parent\"><img src=\"https://colab.research.google.com/assets/colab-badge.svg\" alt=\"Open In Colab\"/></a>"
      ]
    },
    {
      "cell_type": "markdown",
      "metadata": {
        "id": "aSoGtBxhpnwn",
        "colab_type": "text"
      },
      "source": [
        "# Method overloading - big NOPE"
      ]
    },
    {
      "cell_type": "code",
      "metadata": {
        "id": "8b7F7RxdpRmi",
        "colab_type": "code",
        "outputId": "3106dcbb-9bfe-4afc-82f8-d2546ed1b481",
        "colab": {
          "base_uri": "https://localhost:8080/",
          "height": 215
        }
      },
      "source": [
        "class SayingStuffer:\n",
        "    def say_stuff(self, stuff):\n",
        "        print(stuff)\n",
        "\n",
        "    def say_stuff(selfs, stuff_one, stuff_two):\n",
        "        print(stuff_one+stuff_two)\n",
        "\n",
        "ss = SayingStuffer()\n",
        "ss.say_stuff('Something', 'funny!')\n",
        "ss.say_stuff('Something')"
      ],
      "execution_count": 0,
      "outputs": [
        {
          "output_type": "stream",
          "text": [
            "Somethingfunny!\n"
          ],
          "name": "stdout"
        },
        {
          "output_type": "error",
          "ename": "TypeError",
          "evalue": "ignored",
          "traceback": [
            "\u001b[0;31m---------------------------------------------------------------------------\u001b[0m",
            "\u001b[0;31mTypeError\u001b[0m                                 Traceback (most recent call last)",
            "\u001b[0;32m<ipython-input-1-56a8092f3340>\u001b[0m in \u001b[0;36m<module>\u001b[0;34m()\u001b[0m\n\u001b[1;32m      8\u001b[0m \u001b[0mss\u001b[0m \u001b[0;34m=\u001b[0m \u001b[0mSayingStuffer\u001b[0m\u001b[0;34m(\u001b[0m\u001b[0;34m)\u001b[0m\u001b[0;34m\u001b[0m\u001b[0;34m\u001b[0m\u001b[0m\n\u001b[1;32m      9\u001b[0m \u001b[0mss\u001b[0m\u001b[0;34m.\u001b[0m\u001b[0msay_stuff\u001b[0m\u001b[0;34m(\u001b[0m\u001b[0;34m'Something'\u001b[0m\u001b[0;34m,\u001b[0m \u001b[0;34m'funny!'\u001b[0m\u001b[0;34m)\u001b[0m\u001b[0;34m\u001b[0m\u001b[0;34m\u001b[0m\u001b[0m\n\u001b[0;32m---> 10\u001b[0;31m \u001b[0mss\u001b[0m\u001b[0;34m.\u001b[0m\u001b[0msay_stuff\u001b[0m\u001b[0;34m(\u001b[0m\u001b[0;34m'Something'\u001b[0m\u001b[0;34m)\u001b[0m\u001b[0;34m\u001b[0m\u001b[0;34m\u001b[0m\u001b[0m\n\u001b[0m",
            "\u001b[0;31mTypeError\u001b[0m: say_stuff() missing 1 required positional argument: 'stuff_two'"
          ]
        }
      ]
    },
    {
      "cell_type": "markdown",
      "metadata": {
        "id": "2ITeTqsHtjzv",
        "colab_type": "text"
      },
      "source": [
        "# Method overriding - sure"
      ]
    },
    {
      "cell_type": "code",
      "metadata": {
        "id": "C26EXzVAtr5W",
        "colab_type": "code",
        "colab": {}
      },
      "source": [
        "import random\n",
        "\n",
        "class Animal:\n",
        "    def speak(self):\n",
        "        raise RuntimeError\n",
        "\n",
        "class Cat(Animal):\n",
        "    def speak(self):\n",
        "        print(\"Meow\")\n",
        "\n",
        "\n",
        "class Dog(Animal):\n",
        "    def speak(self):\n",
        "        print(\"Woof\")\n",
        "\n",
        "for _ in range(10):\n",
        "    creature = random.choice([Dog(), Cat()])\n",
        "    creature.speak()"
      ],
      "execution_count": 0,
      "outputs": []
    },
    {
      "cell_type": "markdown",
      "metadata": {
        "id": "AjcXM2YdumvM",
        "colab_type": "text"
      },
      "source": [
        "# Just ducktype the stuff when you can"
      ]
    },
    {
      "cell_type": "code",
      "metadata": {
        "id": "7_LBeiFdufJ_",
        "colab_type": "code",
        "colab": {}
      },
      "source": [
        "import random\n",
        "\n",
        "class Cat():\n",
        "    def speak(self):\n",
        "        print(\"Meow\")\n",
        "\n",
        "class Dog():\n",
        "    def speak(self):\n",
        "        print(\"Woof\")\n",
        "\n",
        "for _ in range(10):\n",
        "    creature = random.choice([Dog(), Cat()])\n",
        "    creature.speak()"
      ],
      "execution_count": 0,
      "outputs": []
    },
    {
      "cell_type": "markdown",
      "metadata": {
        "id": "GGDKl5hP1Jy0",
        "colab_type": "text"
      },
      "source": [
        "# Some pointless dunder stuff"
      ]
    },
    {
      "cell_type": "code",
      "metadata": {
        "id": "Qm-OXJo11MNW",
        "colab_type": "code",
        "colab": {}
      },
      "source": [
        "class AbsolutelyPointlessDemonstration:\n",
        "\n",
        "    def __init__(self, value):\n",
        "        self.value = value\n",
        "\n",
        "    def __str__(self):\n",
        "        return 'Pointless'\n",
        "\n",
        "    def __add__(self, another_one):\n",
        "        return 'Who cares'\n",
        "\n",
        "    def __eq__(self, another_obj):\n",
        "        return self.value == another_obj.value\n",
        "\n",
        "pointless_1 = AbsolutelyPointlessDemonstration(6)\n",
        "pointless_2 = AbsolutelyPointlessDemonstration(10)\n",
        "pointless_3 = AbsolutelyPointlessDemonstration(6)\n",
        "\n",
        "print(pointless_1 == pointless_2)\n",
        "print(pointless_1 == pointless_3)\n",
        "\n",
        "print(pointless_1)\n",
        "\n",
        "print(pointless_1 + pointless_3)"
      ],
      "execution_count": 0,
      "outputs": []
    },
    {
      "cell_type": "markdown",
      "metadata": {
        "id": "xVF4n6qa6-9F",
        "colab_type": "text"
      },
      "source": [
        "# Classmethods, staticmethods, attribute access"
      ]
    },
    {
      "cell_type": "code",
      "metadata": {
        "id": "8_NJjxHW7H5A",
        "colab_type": "code",
        "colab": {}
      },
      "source": [
        "class Fennec:\n",
        "    FENNEC_SKILLS = ['Dig a hole', 'Make the \"bliu bliu\" sound']\n",
        "    def __init__(self, name, gender):\n",
        "        self.name = name\n",
        "        self._gender = gender\n",
        "\n",
        "    def bliu_bliu(self):\n",
        "        print('Bliu bliu!!!')\n",
        "\n",
        "    @classmethod\n",
        "    def go_crazy(cls, duration=9999):\n",
        "        print('Going crazy for {} seconds'.format(duration))\n",
        "        print(cls.FENNEC_SKILLS)\n",
        "        print(cls.name)\n",
        "\n",
        "    @staticmethod\n",
        "    def for_the_good_of_all_foxes():\n",
        "        print('Freeeeeeeedoooooooooooom!')\n",
        "\n",
        "    @property\n",
        "    def gender(self):\n",
        "        print('This is not very polite, but sure...')\n",
        "        return self._gender\n",
        "\n",
        "    @gender.setter\n",
        "    def gender(self, new_gender):\n",
        "        raise RuntimeError('NO! NO! {0} is staying a {1}!'.format(self.name, self._gender))"
      ],
      "execution_count": 0,
      "outputs": []
    },
    {
      "cell_type": "code",
      "metadata": {
        "id": "GPBYccyx7QmP",
        "colab_type": "code",
        "colab": {}
      },
      "source": [
        "gosho = Fennec('Гошо', 'мъжага')\n",
        "print(gosho.FENNEC_SKILLS)\n",
        "print(Fennec.FENNEC_SKILLS)\n",
        "\n",
        "gosho.FENNEC_SKILLS.append('Go absolutely crazy')\n",
        "print(Fennec.FENNEC_SKILLS)"
      ],
      "execution_count": 0,
      "outputs": []
    },
    {
      "cell_type": "code",
      "metadata": {
        "id": "BQoosDEE7RsS",
        "colab_type": "code",
        "colab": {}
      },
      "source": [
        "Fennec.for_the_good_of_all_foxes()"
      ],
      "execution_count": 0,
      "outputs": []
    },
    {
      "cell_type": "code",
      "metadata": {
        "id": "fWnhZc0e7U-x",
        "colab_type": "code",
        "colab": {}
      },
      "source": [
        "Fennec.go_crazy()\n",
        "pesho = Fennec('Пешо', 'мъжага')\n",
        "pesho.go_crazy()"
      ],
      "execution_count": 0,
      "outputs": []
    },
    {
      "cell_type": "code",
      "metadata": {
        "id": "b_GbZ_Ow7Xou",
        "colab_type": "code",
        "colab": {}
      },
      "source": [
        "pesho = Fennec('Пешо', 'мъжага')\n",
        "print(pesho.gender)\n",
        "pesho.gender = 'момиченце'"
      ],
      "execution_count": 0,
      "outputs": []
    }
  ]
}