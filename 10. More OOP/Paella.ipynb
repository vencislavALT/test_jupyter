{
  "nbformat": 4,
  "nbformat_minor": 0,
  "metadata": {
    "colab": {
      "name": "Paella.ipynb",
      "version": "0.3.2",
      "provenance": [],
      "include_colab_link": true
    },
    "kernelspec": {
      "name": "python3",
      "display_name": "Python 3"
    }
  },
  "cells": [
    {
      "cell_type": "markdown",
      "metadata": {
        "id": "view-in-github",
        "colab_type": "text"
      },
      "source": [
        "<a href=\"https://colab.research.google.com/github/vencislavALT/test_jupyter/blob/master/10.%20More%20OOP/Paella.ipynb\" target=\"_parent\"><img src=\"https://colab.research.google.com/assets/colab-badge.svg\" alt=\"Open In Colab\"/></a>"
      ]
    },
    {
      "cell_type": "markdown",
      "metadata": {
        "id": "OvEO4L1A74tH",
        "colab_type": "text"
      },
      "source": [
        "# Дроби(because everyone loves them)\n",
        "\n",
        "Искаме да създадем клас, който да ползваме за операции над дроби.\n",
        "\n",
        "Какво трябва да поддържаме:\n",
        "\n",
        "\n",
        "1. Създаване на дроб - Fraction(5, 6)\n",
        "2. Принтиране на дроб - print(Fraction(5,6)) # 5/6\n",
        "3. Събиране на дроби - Fraction(5, 6) + Fraction(2, 3) # Fraction(3/2)\n",
        "4. Изваждане\n",
        "4. Метод за намиране на най-голям общ делител:\n",
        "\n",
        "\n",
        "```\n",
        "def gcd(a, b):\n",
        "    \"\"\"Calculate the Greatest Common Divisor of a and b.\n",
        "    Unless b==0, the result will have the same sign as b (so that when\n",
        "    b is divided by it, the result comes out positive).\n",
        "    \"\"\"\n",
        "    while b:\n",
        "        a, b = b, a%b\n",
        "    return a\n",
        "```\n",
        "5. Деление/ Умножение\n",
        "6. from_float - Fraction.from_float(0.3)\n",
        "7. Сравнения между дроби(==, >=, ...)\n",
        "\n",
        "\n",
        "\n",
        "\n",
        "\n",
        "\n"
      ]
    }
  ]
}