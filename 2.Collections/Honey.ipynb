{
  "nbformat": 4,
  "nbformat_minor": 0,
  "metadata": {
    "colab": {
      "name": "Honey.ipynb",
      "version": "0.3.2",
      "provenance": [],
      "include_colab_link": true
    },
    "kernelspec": {
      "name": "python3",
      "display_name": "Python 3"
    }
  },
  "cells": [
    {
      "cell_type": "markdown",
      "metadata": {
        "id": "view-in-github",
        "colab_type": "text"
      },
      "source": [
        "<a href=\"https://colab.research.google.com/github/vencislavALT/test_jupyter/blob/master/2.Collections/Honey.ipynb\" target=\"_parent\"><img src=\"https://colab.research.google.com/assets/colab-badge.svg\" alt=\"Open In Colab\"/></a>"
      ]
    },
    {
      "cell_type": "markdown",
      "metadata": {
        "id": "RP_x0Aidoun-",
        "colab_type": "text"
      },
      "source": [
        "# Задача 1\n",
        "Имаме даден списък, който съдържа в себе си две други колекции - tuple и list.\n",
        "Искаме да добавим по едно число в края на двете колекции, което да се отрази в \"главният\" ни списък."
      ]
    },
    {
      "cell_type": "code",
      "metadata": {
        "id": "0d7vsHVNohC5",
        "colab_type": "code",
        "colab": {}
      },
      "source": [
        "odd_numbers = (1, 3, 5)\n",
        "even_numbers = [2, 4, 6]\n",
        "\n",
        "mixed_numbers = [odd_numbers, even_numbers]\n",
        "print(mixed_numbers)\n",
        "\n",
        "# Your code\n",
        "\n",
        "print(mixed_numbers)"
      ],
      "execution_count": 0,
      "outputs": []
    },
    {
      "cell_type": "code",
      "metadata": {
        "id": "A4tC_Dj9pmOY",
        "colab_type": "code",
        "colab": {}
      },
      "source": [
        "#@title Test your solution (run the code above before that, though)! { display-mode: \"form\" }\n",
        "try:\n",
        "    assert odd_numbers == (1, 3, 5, 7)\n",
        "    assert even_numbers == [2, 4, 6, 8]\n",
        "    assert mixed_numbers == [(1, 3, 5, 7), [2, 4, 6, 8]]\n",
        "except AssertionError as err:\n",
        "    print('Nope, something\\'s not right...')\n",
        "else:\n",
        "    print('Good job!')"
      ],
      "execution_count": 0,
      "outputs": []
    },
    {
      "cell_type": "markdown",
      "metadata": {
        "id": "FRyDp6tlrLzs",
        "colab_type": "text"
      },
      "source": [
        "# Задача 2\n",
        "Имате списък с числа. Подредете ги по възходящ ред. Не, не ръчно. Ето, ще го направя трудно:"
      ]
    },
    {
      "cell_type": "code",
      "metadata": {
        "id": "4KwDdjJqrzxc",
        "colab_type": "code",
        "cellView": "code",
        "colab": {}
      },
      "source": [
        "variable_name = 0\n",
        "import random\n",
        "numbers = [random.randint(0, 9001), random.randint(0, 9001), random.randint(0, 9001),\n",
        "           random.randint(0, 9001), random.randint(0, 9001), random.randint(0, 9001),]\n",
        "print(numbers)\n",
        "\n",
        "# Your code\n",
        "\n",
        "print(numbers)"
      ],
      "execution_count": 0,
      "outputs": []
    },
    {
      "cell_type": "code",
      "metadata": {
        "colab_type": "code",
        "id": "3AVXHdrCsG7L",
        "colab": {}
      },
      "source": [
        "#@title Test your solution (run the code above before that, though)! { display-mode: \"form\" }\n",
        "try:\n",
        "    assert numbers == sorted(numbers)\n",
        "except AssertionError as err:\n",
        "    print('Nope, something\\'s not right...')\n",
        "else:\n",
        "    print('Good job!')"
      ],
      "execution_count": 0,
      "outputs": []
    },
    {
      "cell_type": "markdown",
      "metadata": {
        "id": "E2qGXWMpsp-K",
        "colab_type": "text"
      },
      "source": [
        "# Задача 3\n",
        "Имате речник с герои от GoT. Речникът описва кой по колко пъти е умирал. Добавате 2 произволни героя.  "
      ]
    },
    {
      "cell_type": "code",
      "metadata": {
        "id": "XpfLldbEspdz",
        "colab_type": "code",
        "colab": {}
      },
      "source": [
        "death_count = {'Jonkata': 1, 'Beric': 7, 'The Mountain': '?', 'Sansa Stark': 0}\n",
        "\n",
        "# Your code here\n",
        "\n",
        "print(death_count)"
      ],
      "execution_count": 0,
      "outputs": []
    },
    {
      "cell_type": "markdown",
      "metadata": {
        "id": "fgaU4BGVu_7Q",
        "colab_type": "text"
      },
      "source": [
        "Както се сещате, това не е особено интересно. Затова - въпрос:  \n",
        "Какво ще се изпринти когато се изпълни кодът по-долу?\n",
        "\n",
        "**Отговор:** Нищо, защото принтът е закоментиран.  \n",
        "Сега сериозно, какво ще се изпринти когато махнете коментара?"
      ]
    },
    {
      "cell_type": "code",
      "metadata": {
        "id": "P2dTGWcPvLYq",
        "colab_type": "code",
        "colab": {}
      },
      "source": [
        "characters = list(death_count.keys())\n",
        "#print(characters[3])"
      ],
      "execution_count": 0,
      "outputs": []
    }
  ]
}