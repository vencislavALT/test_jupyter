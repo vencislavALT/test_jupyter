{
  "nbformat": 4,
  "nbformat_minor": 0,
  "metadata": {
    "colab": {
      "name": "Spirulina.ipynb",
      "version": "0.3.2",
      "provenance": [],
      "include_colab_link": true
    },
    "kernelspec": {
      "name": "python3",
      "display_name": "Python 3"
    }
  },
  "cells": [
    {
      "cell_type": "markdown",
      "metadata": {
        "id": "view-in-github",
        "colab_type": "text"
      },
      "source": [
        "<a href=\"https://colab.research.google.com/github/vencislavALT/test_jupyter/blob/master/2.Collections/Spirulina.ipynb\" target=\"_parent\"><img src=\"https://colab.research.google.com/assets/colab-badge.svg\" alt=\"Open In Colab\"/></a>"
      ]
    },
    {
      "cell_type": "code",
      "metadata": {
        "id": "0-_ueN1kYrlJ",
        "colab_type": "code",
        "colab": {},
        "cellView": "form"
      },
      "source": [
        "#@title Setup, execute once.\n",
        "import math"
      ],
      "execution_count": 0,
      "outputs": []
    },
    {
      "cell_type": "markdown",
      "metadata": {
        "id": "DQtQEVFbXoL1",
        "colab_type": "text"
      },
      "source": [
        "# Lists\n",
        "## Basic operations"
      ]
    },
    {
      "cell_type": "code",
      "metadata": {
        "id": "oR2UxxE6ViEQ",
        "colab_type": "code",
        "colab": {}
      },
      "source": [
        "my_cool_list = ['Spirulina, of course', 666, [1,2,3], 'another string', 1.618]\n",
        "print(my_cool_list)\n",
        "print('My list is {0} items long'.format(len(my_cool_list)))\n",
        "print(my_cool_list[1])\n",
        "print(my_cool_list[-1])\n",
        "\n",
        "print('~~~~~~~~~~')\n",
        "my_cool_list[0] = 'Ok, no spirulina'\n",
        "my_cool_list.append(math.pi) # Add an item to the back of the list\n",
        "print(my_cool_list)\n",
        "print('My list is {0} items long'.format(len(my_cool_list)))\n",
        "print(my_cool_list[1])\n",
        "print(my_cool_list[-1])\n",
        "\n",
        "print('~~~~~~~~~~')\n",
        "not_so_cool_list = ['x', 'y', 1.1]\n",
        "my_cool_list = my_cool_list + not_so_cool_list\n",
        "print(my_cool_list)\n",
        "print('My list is {0} items long'.format(len(my_cool_list)))\n",
        "print(my_cool_list[1])\n",
        "print(my_cool_list[-1])\n",
        "\n",
        "print('~~~~~~~~~~')\n",
        "print('Before: {0}'.format(my_cool_list))\n",
        "print('Popped item: {0}'.format(my_cool_list.pop())) # Remove an item from the list\n",
        "print('After: {0}'.format(my_cool_list))"
      ],
      "execution_count": 0,
      "outputs": []
    },
    {
      "cell_type": "markdown",
      "metadata": {
        "id": "NFhJ8eRuac-o",
        "colab_type": "text"
      },
      "source": [
        "## Now it gets complicated"
      ]
    },
    {
      "cell_type": "code",
      "metadata": {
        "id": "SYvOrxPFafYN",
        "colab_type": "code",
        "colab": {}
      },
      "source": [
        "my_cool_list = ['Spirulina, of course', 666, [1,2,3], 'another string', 1.618]\n",
        "\n",
        "print('Before: {0}'.format(my_cool_list))\n",
        "my_cool_list[2].append('Jon Snow dies at the end')\n",
        "print('After: {0}'.format(my_cool_list))\n",
        "\n",
        "print('~~~~~~~~~~')\n",
        "del my_cool_list[2] # What is del?!\n",
        "print(my_cool_list)"
      ],
      "execution_count": 0,
      "outputs": []
    },
    {
      "cell_type": "markdown",
      "metadata": {
        "id": "1gi5kxWicd2S",
        "colab_type": "text"
      },
      "source": [
        "## Get ready to get your mind blown"
      ]
    },
    {
      "cell_type": "code",
      "metadata": {
        "id": "pqa0PngzchDg",
        "colab_type": "code",
        "colab": {}
      },
      "source": [
        "my_cool_list = ['Spirulina, of course', 666, [1,2,3], 'another string', 1.618]\n",
        "# I don't want you to blow your mind on your own, so no spoilers here"
      ],
      "execution_count": 0,
      "outputs": []
    },
    {
      "cell_type": "markdown",
      "metadata": {
        "id": "ZYMwIBuHc_kY",
        "colab_type": "text"
      },
      "source": [
        "# Tuples\n",
        "## Basic operations"
      ]
    },
    {
      "cell_type": "code",
      "metadata": {
        "id": "hDFREwUNdD1Y",
        "colab_type": "code",
        "colab": {}
      },
      "source": [
        "my_cool_tuple = ('Spirulina, of course', 666, [1,2,3], 'another string', 1.618)\n",
        "print(my_cool_tuple)\n",
        "print('My list is {0} items long'.format(len(my_cool_tuple)))\n",
        "print(my_cool_tuple[1])\n",
        "print(my_cool_tuple[-1])\n",
        "\n",
        "print('~~~~~~~~~~')\n",
        "my_cool_tuple[0] = 'Ok, no spirulina'"
      ],
      "execution_count": 0,
      "outputs": []
    },
    {
      "cell_type": "markdown",
      "metadata": {
        "id": "pZeN_hT7eQoO",
        "colab_type": "text"
      },
      "source": [
        "## Now it gets confusing"
      ]
    },
    {
      "cell_type": "code",
      "metadata": {
        "id": "iikanz5YeT7v",
        "colab_type": "code",
        "colab": {}
      },
      "source": [
        "my_cool_tuple = ('Spirulina, of course', 666, [1,2,3], 'another string', 1.618)\n",
        "print('Before {0}'.format(my_cool_tuple))\n",
        "# Enter code here\n",
        "print('After {0}'.format(my_cool_tuple))"
      ],
      "execution_count": 0,
      "outputs": []
    },
    {
      "cell_type": "markdown",
      "metadata": {
        "id": "Af66DG1Ye8P-",
        "colab_type": "text"
      },
      "source": [
        "# Sets"
      ]
    },
    {
      "cell_type": "code",
      "metadata": {
        "id": "kKCndQMTe-jH",
        "colab_type": "code",
        "colab": {}
      },
      "source": [
        "favourite_numbers = set()\n",
        "favourite_numbers.add(13)\n",
        "favourite_numbers.add(73)\n",
        "favourite_numbers.add(32)\n",
        "favourite_numbers.add(73)\n",
        "favourite_numbers.add(1024)\n",
        "favourite_numbers.add(73)\n",
        "\n",
        "print(favourite_numbers)\n",
        "\n",
        "print({1, 2, 3} | {2, 3, 4})\n",
        "print({1, 2, 3} & {2, 3, 4})\n",
        "print({1, 2, 3} - {2, 3, 4})"
      ],
      "execution_count": 0,
      "outputs": []
    },
    {
      "cell_type": "markdown",
      "metadata": {
        "id": "56d-MEVufK5H",
        "colab_type": "text"
      },
      "source": [
        "# Dictionaries"
      ]
    },
    {
      "cell_type": "code",
      "metadata": {
        "id": "-GyXC70afRgB",
        "colab_type": "code",
        "colab": {}
      },
      "source": [
        "artist_names = {\n",
        "    'Eddie': 'Vedder',\n",
        "    'Maynard': 'Keenan',\n",
        "    'Matthew': 'Bellamy',\n",
        "    'James': 'LaBrie', \n",
        "}\n",
        "print('Eddie\\'s last name is ' + artist_names['Eddie'])\n",
        "print('~~~~~~~~~~')\n",
        "print(artist_names['Ventsi']) # Uh-oh"
      ],
      "execution_count": 0,
      "outputs": []
    },
    {
      "cell_type": "markdown",
      "metadata": {
        "id": "lMnYTW6WiI-o",
        "colab_type": "text"
      },
      "source": [
        "This works, though (get does not result in an error if the **key** is not present):"
      ]
    },
    {
      "cell_type": "code",
      "metadata": {
        "id": "VkofJlkXiOMI",
        "colab_type": "code",
        "colab": {}
      },
      "source": [
        "print(artist_names.get('Ventsi'))"
      ],
      "execution_count": 0,
      "outputs": []
    },
    {
      "cell_type": "code",
      "metadata": {
        "id": "MvCVfHgPidmn",
        "colab_type": "code",
        "colab": {}
      },
      "source": [
        "artist_names = {\n",
        "    'Eddie': 'Vedder',\n",
        "    'Maynard': 'Keenan',\n",
        "    'Matthew': 'Bellamy',\n",
        "    'James': 'LaBrie', \n",
        "}\n",
        "artist_names['Ventsi'] = 'Kolev' # Best contemporary duduk player\n",
        "del artist_names['James']\n",
        "print(artist_names)\n",
        "\n",
        "\n",
        "print('~~~~~~~~~~')\n",
        "artist_names['Eddie'] = 'Van Halen'\n",
        "print(artist_names)\n",
        "artist_names['Matthew'] = [1,2,3] # Yes, it makes no sense\n",
        "artist_names[6] = 'Bellamy'\n",
        "print(artist_names)"
      ],
      "execution_count": 0,
      "outputs": []
    },
    {
      "cell_type": "code",
      "metadata": {
        "id": "mpe-61CtjUR_",
        "colab_type": "code",
        "colab": {}
      },
      "source": [
        "# Let's not forget spirulina\n",
        "food_guidelines = {'Dog Food': 'Spirulina', 'Cake': 'Спирулина', 'Amount of spirulina': 3, 5: 'five'}\n",
        "food_guidelines[[1,2,3]] = 'Uh-oh'\n"
      ],
      "execution_count": 0,
      "outputs": []
    }
  ]
}