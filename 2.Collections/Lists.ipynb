{
 "cells": [
  {
   "cell_type": "markdown",
   "metadata": {},
   "source": [
    "### Задача 1\n",
    "\n",
    "Даден е списък, чийто елементи са равни на индекса + 1.\n",
    "\n",
    "Примери: \n",
    "    [1, 2, 3]\n",
    "    [1, 2, 3, 4, 5, 6, 7, 8, 9, 10]\n",
    "    \n",
    "Да се върнат само четните елементи от тези списъци."
   ]
  },
  {
   "cell_type": "code",
   "execution_count": null,
   "metadata": {},
   "outputs": [],
   "source": [
    "import doctest\n",
    "\n",
    "def even_numbers(list_of_numbers):\n",
    "    '''\n",
    "    >>> even_numbers([1, 2, 3])\n",
    "    [2]\n",
    "    >>> even_numbers([1, 2, 3, 4, 5, 6, 7, 8, 9, 10])\n",
    "    [2, 4, 6, 8, 10]\n",
    "    '''\n",
    "    return 'fill this line'\n",
    "doctest.testmod()"
   ]
  }
 ],
 "metadata": {
  "kernelspec": {
   "display_name": "Python 3",
   "language": "python",
   "name": "python3"
  },
  "language_info": {
   "codemirror_mode": {
    "name": "ipython",
    "version": 3
   },
   "file_extension": ".py",
   "mimetype": "text/x-python",
   "name": "python",
   "nbconvert_exporter": "python",
   "pygments_lexer": "ipython3",
   "version": "3.6.7"
  }
 },
 "nbformat": 4,
 "nbformat_minor": 2
}
