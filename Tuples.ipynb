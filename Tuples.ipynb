{
 "cells": [
  {
   "cell_type": "markdown",
   "metadata": {},
   "source": [
    "### Задача 1\n",
    "\n",
    "Даден е tuple, чийто елементи са равни на индекса + 1.\n",
    "\n",
    "Примери: \n",
    "    (1, 2, 3)\n",
    "    (1, 2, 3, 4, 5, 6, 7, 8, 9, 10)\n",
    "    \n",
    "Да се върнат само последните 2 елемента."
   ]
  },
  {
   "cell_type": "code",
   "execution_count": null,
   "metadata": {},
   "outputs": [],
   "source": [
    "import doctest\n",
    "\n",
    "def last_two(tuple_of_numbers):\n",
    "    '''\n",
    "    >>> last_two((1, 2, 3))\n",
    "    (2, 3)\n",
    "    >>> last_two((1, 2, 3, 4, 5, 6, 7, 8, 9, 10))\n",
    "    (9, 10)\n",
    "    '''\n",
    "    return 'fill me in'\n",
    "doctest.testmod()"
   ]
  }
 ],
 "metadata": {
  "kernelspec": {
   "display_name": "Python 3",
   "language": "python",
   "name": "python3"
  },
  "language_info": {
   "codemirror_mode": {
    "name": "ipython",
    "version": 3
   },
   "file_extension": ".py",
   "mimetype": "text/x-python",
   "name": "python",
   "nbconvert_exporter": "python",
   "pygments_lexer": "ipython3",
   "version": "3.6.7"
  }
 },
 "nbformat": 4,
 "nbformat_minor": 2
}
