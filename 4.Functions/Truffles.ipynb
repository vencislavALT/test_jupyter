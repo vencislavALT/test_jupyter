{
  "nbformat": 4,
  "nbformat_minor": 0,
  "metadata": {
    "colab": {
      "name": "Truffles.ipynb",
      "version": "0.3.2",
      "provenance": [],
      "collapsed_sections": [],
      "include_colab_link": true
    },
    "kernelspec": {
      "name": "python3",
      "display_name": "Python 3"
    }
  },
  "cells": [
    {
      "cell_type": "markdown",
      "metadata": {
        "id": "view-in-github",
        "colab_type": "text"
      },
      "source": [
        "<a href=\"https://colab.research.google.com/github/vencislavALT/test_jupyter/blob/master/4.Functions/Truffles.ipynb\" target=\"_parent\"><img src=\"https://colab.research.google.com/assets/colab-badge.svg\" alt=\"Open In Colab\"/></a>"
      ]
    },
    {
      "cell_type": "markdown",
      "metadata": {
        "id": "a2qULcaW2Sfa",
        "colab_type": "text"
      },
      "source": [
        "#Functions\n",
        "Примерът с картофите:"
      ]
    },
    {
      "cell_type": "code",
      "metadata": {
        "id": "6w7axW1Y8GR7",
        "colab_type": "code",
        "colab": {}
      },
      "source": [
        "def make_mashed_potatoes():\n",
        "    potato = take_the_potato()\n",
        "    mashed_potato = mash_the_potato(potato)\n",
        "    return mashed_potato\n",
        "\n",
        "def take_the_potato():\n",
        "    return 'potato'\n",
        "\n",
        "def mash_the_potato(potato_to_be_mashed):\n",
        "    return 'mashed ' + potato_to_be_mashed\n",
        "\n",
        "print(make_mashed_potatoes())"
      ],
      "execution_count": 0,
      "outputs": []
    },
    {
      "cell_type": "markdown",
      "metadata": {
        "id": "YGCG7yq7Zmr7",
        "colab_type": "text"
      },
      "source": [
        "Отново, илюстрация на scopes (**защото е супер важно**):"
      ]
    },
    {
      "cell_type": "code",
      "metadata": {
        "id": "Wxl1aWgmZlFj",
        "colab_type": "code",
        "colab": {
          "base_uri": "https://localhost:8080/",
          "height": 71
        },
        "outputId": "40cad7a1-e0c0-4177-b479-74706fd0f2a4"
      },
      "source": [
        "def outer_function():\n",
        "    a = 20\n",
        "\n",
        "    def inner_function():\n",
        "        a = 30\n",
        "        print('Inner a =', a)\n",
        "\n",
        "    inner_function()\n",
        "    print('Outer a =', a)\n",
        "\n",
        "\n",
        "a = 10\n",
        "outer_function()\n",
        "print('Global a =', a)"
      ],
      "execution_count": 2,
      "outputs": [
        {
          "output_type": "stream",
          "text": [
            "Inner a = 30\n",
            "Outer a = 20\n",
            "Global a = 10\n"
          ],
          "name": "stdout"
        }
      ]
    },
    {
      "cell_type": "code",
      "metadata": {
        "id": "CLIFPPnRZwRz",
        "colab_type": "code",
        "colab": {
          "base_uri": "https://localhost:8080/",
          "height": 71
        },
        "outputId": "559e5117-f6cc-4de6-9b07-f95cdf93d1e1"
      },
      "source": [
        "def outer_function():\n",
        "    global a\n",
        "    a = 20\n",
        "\n",
        "    def inner_function():\n",
        "        global a\n",
        "        a = 30\n",
        "        print('Inner a =', a)\n",
        "\n",
        "    inner_function()\n",
        "    print('Outer a =', a)\n",
        "\n",
        "\n",
        "a = 10\n",
        "outer_function()\n",
        "print('Global a =', a)"
      ],
      "execution_count": 3,
      "outputs": [
        {
          "output_type": "stream",
          "text": [
            "Inner a = 30\n",
            "Outer a = 30\n",
            "Global a = 30\n"
          ],
          "name": "stdout"
        }
      ]
    }
  ]
}