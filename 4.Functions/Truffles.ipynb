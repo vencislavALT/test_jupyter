{
  "nbformat": 4,
  "nbformat_minor": 0,
  "metadata": {
    "colab": {
      "name": "Truffles.ipynb",
      "version": "0.3.2",
      "provenance": [],
      "collapsed_sections": [],
      "include_colab_link": true
    },
    "kernelspec": {
      "name": "python3",
      "display_name": "Python 3"
    }
  },
  "cells": [
    {
      "cell_type": "markdown",
      "metadata": {
        "id": "view-in-github",
        "colab_type": "text"
      },
      "source": [
        "<a href=\"https://colab.research.google.com/github/vencislavALT/test_jupyter/blob/master/4.Functions/Truffles.ipynb\" target=\"_parent\"><img src=\"https://colab.research.google.com/assets/colab-badge.svg\" alt=\"Open In Colab\"/></a>"
      ]
    },
    {
      "cell_type": "markdown",
      "metadata": {
        "id": "a2qULcaW2Sfa",
        "colab_type": "text"
      },
      "source": [
        "#Functions\n",
        "Примерът с картофите:"
      ]
    },
    {
      "cell_type": "code",
      "metadata": {
        "id": "6w7axW1Y8GR7",
        "colab_type": "code",
        "colab": {}
      },
      "source": [
        "def make_mashed_potatoes():\n",
        "    potato = take_the_potato()\n",
        "    mashed_potato = mash_the_potato(potato)\n",
        "    return mashed_potato\n",
        "\n",
        "def take_the_potato():\n",
        "    return 'potato'\n",
        "\n",
        "def mash_the_potato(potato_to_be_mashed):\n",
        "    return 'mashed ' + potato_to_be_mashed\n",
        "\n",
        "print(make_mashed_potatoes())"
      ],
      "execution_count": 0,
      "outputs": []
    },
    {
      "cell_type": "markdown",
      "metadata": {
        "id": "YGCG7yq7Zmr7",
        "colab_type": "text"
      },
      "source": [
        "Отново, илюстрация на scopes (**защото е супер важно**):"
      ]
    },
    {
      "cell_type": "code",
      "metadata": {
        "id": "Wxl1aWgmZlFj",
        "colab_type": "code",
        "outputId": "40cad7a1-e0c0-4177-b479-74706fd0f2a4",
        "colab": {
          "base_uri": "https://localhost:8080/",
          "height": 71
        }
      },
      "source": [
        "def outer_function():\n",
        "    a = 20\n",
        "\n",
        "    def inner_function():\n",
        "        a = 30\n",
        "        print('Inner a =', a)\n",
        "\n",
        "    inner_function()\n",
        "    print('Outer a =', a)\n",
        "\n",
        "\n",
        "a = 10\n",
        "outer_function()\n",
        "print('Global a =', a)"
      ],
      "execution_count": 0,
      "outputs": [
        {
          "output_type": "stream",
          "text": [
            "Inner a = 30\n",
            "Outer a = 20\n",
            "Global a = 10\n"
          ],
          "name": "stdout"
        }
      ]
    },
    {
      "cell_type": "code",
      "metadata": {
        "id": "CLIFPPnRZwRz",
        "colab_type": "code",
        "outputId": "559e5117-f6cc-4de6-9b07-f95cdf93d1e1",
        "colab": {
          "base_uri": "https://localhost:8080/",
          "height": 71
        }
      },
      "source": [
        "def outer_function():\n",
        "    global a\n",
        "    a = 20\n",
        "\n",
        "    def inner_function():\n",
        "        global a\n",
        "        a = 30\n",
        "        print('Inner a =', a)\n",
        "\n",
        "    inner_function()\n",
        "    print('Outer a =', a)\n",
        "\n",
        "\n",
        "a = 10\n",
        "outer_function()\n",
        "print('Global a =', a)"
      ],
      "execution_count": 0,
      "outputs": [
        {
          "output_type": "stream",
          "text": [
            "Inner a = 30\n",
            "Outer a = 30\n",
            "Global a = 30\n"
          ],
          "name": "stdout"
        }
      ]
    },
    {
      "cell_type": "markdown",
      "metadata": {
        "id": "38vEoMcqGXqq",
        "colab_type": "text"
      },
      "source": [
        "# Аргументи\n",
        "## Default arguments"
      ]
    },
    {
      "cell_type": "code",
      "metadata": {
        "id": "PVjKzbQHGrjj",
        "colab_type": "code",
        "colab": {}
      },
      "source": [
        "def is_pythagorean(a=3, b=4, c=5):\n",
        "    print('Checking for {0}, {1}, {2}...'.format(a, b, c))\n",
        "    return a**2 + b**2 == c**2\n",
        "\n",
        "print(is_pythagorean())\n",
        "print(is_pythagorean(1, 2))\n",
        "print(is_pythagorean(7, 24, 25))\n",
        "print(is_pythagorean(c=20))\n",
        "print(is_pythagorean(10, c=20))\n",
        "print(is_pythagorean(c=10, a=5))"
      ],
      "execution_count": 0,
      "outputs": []
    },
    {
      "cell_type": "markdown",
      "metadata": {
        "id": "RfZ8zmDVH06f",
        "colab_type": "text"
      },
      "source": [
        "За какво трябва да внимавате:"
      ]
    },
    {
      "cell_type": "code",
      "metadata": {
        "id": "xj5AA_E4H1Hf",
        "colab_type": "code",
        "colab": {}
      },
      "source": [
        "print(is_pythagorean(c=10, 5))"
      ],
      "execution_count": 0,
      "outputs": []
    },
    {
      "cell_type": "markdown",
      "metadata": {
        "id": "qFJ46wYWPUKL",
        "colab_type": "text"
      },
      "source": [
        "## Пълен пример за аргументи"
      ]
    },
    {
      "cell_type": "code",
      "metadata": {
        "id": "hvkMusPmPYLH",
        "colab_type": "code",
        "colab": {}
      },
      "source": [
        "def very_complex_function(first, second, third=None, fourth=5, *args, **kwargs):\n",
        "    print('Positional: {0}, {1}'.format(first, second))\n",
        "    print('Keyword: {0} {1}'.format(third, fourth))\n",
        "    print('*args: {0}'.format(args))\n",
        "    print('**kwargs: {0}'.format(kwargs))\n",
        "    print('~~~~~~~~~~~~~~\\n')\n",
        "\n",
        "very_complex_function(True, False)\n",
        "very_complex_function(1, 2, third=3, first_kwarg=4, second_kwarg=5)\n",
        "very_complex_function(1, 'b', [1, 2, 3], False, 'This', 'is', 'the', 'tale', 'of',\n",
        "                      title='Captain', first_name='Jack', second_name='Sparrow')"
      ],
      "execution_count": 0,
      "outputs": []
    },
    {
      "cell_type": "markdown",
      "metadata": {
        "id": "M8cof32LQfY0",
        "colab_type": "text"
      },
      "source": [
        "Отново, нямаме право да правим следното:"
      ]
    },
    {
      "cell_type": "code",
      "metadata": {
        "id": "VCKofU9pQhhs",
        "colab_type": "code",
        "colab": {}
      },
      "source": [
        "very_complex_function(1, 'b', fourth=[1, 2, 3], third=False, 'This', 'is', 'the', 'tale', 'of',\n",
        "                      title='Captain', first_name='Jack', second_name='Sparrow')"
      ],
      "execution_count": 0,
      "outputs": []
    },
    {
      "cell_type": "markdown",
      "metadata": {
        "id": "l2jPhfrVQ-re",
        "colab_type": "text"
      },
      "source": [
        "## И последно, не забравяйте unpacking-а!"
      ]
    },
    {
      "cell_type": "code",
      "metadata": {
        "id": "s7rqQGSyRBAj",
        "colab_type": "code",
        "colab": {}
      },
      "source": [
        "args = list(range(200))\n",
        "very_complex_function(*args)\n",
        "\n",
        "kwargs = {letter: ord(letter) for letter in 'abcdefghijk'}\n",
        "kwargs['third'] = 'I AM HERE'\n",
        "very_complex_function('first positional', 'second positional', **kwargs)"
      ],
      "execution_count": 0,
      "outputs": []
    },
    {
      "cell_type": "markdown",
      "metadata": {
        "id": "tPk97bKhLMQG",
        "colab_type": "text"
      },
      "source": [
        "# Рекурсия, рекурсия, рекурсия, рекурсия, рекурсия, рекурсия, рекурсия\n",
        "## Класически пример:"
      ]
    },
    {
      "cell_type": "code",
      "metadata": {
        "id": "f7lv3mRcLQYG",
        "colab_type": "code",
        "colab": {}
      },
      "source": [
        "def factorial(number):\n",
        "    if number == 1:\n",
        "        return 1\n",
        "    else:\n",
        "        return number*factorial(number-1)\n",
        "\n",
        "print(factorial(10))"
      ],
      "execution_count": 0,
      "outputs": []
    },
    {
      "cell_type": "markdown",
      "metadata": {
        "id": "udW-YnEGLhFp",
        "colab_type": "text"
      },
      "source": [
        "## Да пробваме това:"
      ]
    },
    {
      "cell_type": "code",
      "metadata": {
        "id": "dMQmld40Lj6M",
        "colab_type": "code",
        "colab": {}
      },
      "source": [
        "print(factorial(1001))"
      ],
      "execution_count": 0,
      "outputs": []
    },
    {
      "cell_type": "markdown",
      "metadata": {
        "id": "AYMu7oFIOt48",
        "colab_type": "text"
      },
      "source": [
        "Дълбочината на рекурсията е ограничена, за да се избегне **безкрайна рекурсия**. Тази дълбочина може да се промени, но рискувате да се простреляте в крака, затова няма да ви обясним как се прави... В 99% от случаите има по-добра имплементация, която не го изисква."
      ]
    }
  ]
}