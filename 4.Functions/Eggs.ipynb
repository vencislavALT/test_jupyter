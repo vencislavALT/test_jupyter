{
  "nbformat": 4,
  "nbformat_minor": 0,
  "metadata": {
    "colab": {
      "name": "Eggs.ipynb",
      "version": "0.3.2",
      "provenance": [],
      "collapsed_sections": [],
      "include_colab_link": true
    },
    "kernelspec": {
      "name": "python3",
      "display_name": "Python 3"
    }
  },
  "cells": [
    {
      "cell_type": "markdown",
      "metadata": {
        "id": "view-in-github",
        "colab_type": "text"
      },
      "source": [
        "<a href=\"https://colab.research.google.com/github/vencislavALT/test_jupyter/blob/master/4.Functions/Eggs.ipynb\" target=\"_parent\"><img src=\"https://colab.research.google.com/assets/colab-badge.svg\" alt=\"Open In Colab\"/></a>"
      ]
    },
    {
      "cell_type": "code",
      "metadata": {
        "id": "MvHYFz_CGyfF",
        "colab_type": "code",
        "colab": {}
      },
      "source": [
        "#@title Run once at the start { display-mode: \"form\" }\n",
        "import unittest"
      ],
      "execution_count": 0,
      "outputs": []
    },
    {
      "cell_type": "markdown",
      "metadata": {
        "id": "01N_prCm2ttU",
        "colab_type": "text"
      },
      "source": [
        "#Задача 1\n",
        "Напишете функция, която приема списък с числа и връща сбора на всички четни числа в него.  "
      ]
    },
    {
      "cell_type": "code",
      "metadata": {
        "id": "z7FAZrvnJD1I",
        "colab_type": "code",
        "colab": {}
      },
      "source": [
        "def sum_even(numbers):\n",
        "    # Your code\n",
        "    pass\n",
        "\n",
        "print(sum_even([1, 2, 3, 4, 5, 6])) # 12"
      ],
      "execution_count": 0,
      "outputs": []
    },
    {
      "cell_type": "code",
      "metadata": {
        "id": "sxnQykj_JD4P",
        "colab_type": "code",
        "colab": {}
      },
      "source": [
        "#@title Test your solution! { display-mode: \"form\" }\n",
        "class TestSumEven(unittest.TestCase):\n",
        "    \n",
        "    def test_sum_even(self):\n",
        "        test_numbers = [1, 2, 3, 10, 50, 9999]\n",
        "        result = 62\n",
        "        self.assertEqual(sum_even(test_numbers), result)\n",
        "\n",
        "    def test_sum_even_negative(self):\n",
        "        test_numbers = [-42, 20, 51, -101, 3.14, 0]\n",
        "        result = -22\n",
        "        self.assertEqual(sum_even(test_numbers), result)\n",
        "\n",
        "unittest.main(argv=['first-arg-is-ignored', 'TestSumEven'], exit=False)"
      ],
      "execution_count": 0,
      "outputs": []
    },
    {
      "cell_type": "markdown",
      "metadata": {
        "id": "acOvcu7ZFWgo",
        "colab_type": "text"
      },
      "source": [
        "# Задача 2\n",
        "Напишете функция, която приема два аргумента - списък с числа и брой елементи. Вторият аргумент трябва да е опционален - може да не се подаде (тогава функцията връща всичките елементи)  \n",
        "Функцията трябва да сортира списъка с числа и да върне първите n на брой от тях."
      ]
    },
    {
      "cell_type": "code",
      "metadata": {
        "id": "UxnPI9yJJDd8",
        "colab_type": "code",
        "colab": {}
      },
      "source": [
        "def sort_and_cut(): # <- Add the parameters on your own\n",
        "    # Your code\n",
        "    pass\n",
        "\n",
        "my_numbers = [-10, 0.0, 200, 99, 413-400, 3.0, -42.0, -0]\n",
        "print(sort_and_cut(my_numbers)) # [-42.0, -10, 0.0, 0, 3.0, 13, 99, 200]\n",
        "print(sort_and_cut(my_numbers, 5)) # [-42.0, -10, 0.0, 0, 3.0]"
      ],
      "execution_count": 0,
      "outputs": []
    },
    {
      "cell_type": "code",
      "metadata": {
        "id": "qtxvVOJ0JDgh",
        "colab_type": "code",
        "colab": {}
      },
      "source": [
        "#@title Test your solution! { display-mode: \"form\" }\n",
        "class TestSortAndCut(unittest.TestCase):\n",
        "    \n",
        "    def test_sort(self):\n",
        "        test_numbers = [-10, 0.0, 200, 413-400, 3.0, -42.0, -0]\n",
        "        cache = test_numbers[:]\n",
        "        result = [-42.0, -10, 0.0, 0, 3.0, 13, 200]\n",
        "        self.assertEqual(sort_and_cut(test_numbers), result)\n",
        "        if test_numbers != cache:\n",
        "            print('The test is fine, but you\\'ve messed up the original list!')\n",
        "\n",
        "    def test_sort_and_cut(self):\n",
        "        test_numbers = [-10, 0.0, 200, 413-400, 3.0, -42.0, -0]\n",
        "        expected = [-42.0]\n",
        "        cache = test_numbers[:]\n",
        "        self.assertEqual(sort_and_cut(test_numbers, 1), expected)\n",
        "        if test_numbers != cache:\n",
        "            print('The test is fine, but you\\'ve messed up the original list!')\n",
        "\n",
        "unittest.main(argv=['first-arg-is-ignored', 'TestSortAndCut'], exit=False)"
      ],
      "execution_count": 0,
      "outputs": []
    },
    {
      "cell_type": "markdown",
      "metadata": {
        "id": "mBlgR13xFWwD",
        "colab_type": "text"
      },
      "source": [
        "# Задача 3\n",
        "Напишете функция, която приема произволен брой аргументи от тип стринг (думи) или None.  \n",
        "Функцията връща две стойности:\n",
        "1. **Стринг**, който е комбинация от всичките \"думи\", които са ѝ подадени, поставяйки интервали между тях.\n",
        "2. **Число**, което показва броят на срещания на None сред подадените аргументи."
      ]
    },
    {
      "cell_type": "code",
      "metadata": {
        "id": "deGfFbUhJDCh",
        "colab_type": "code",
        "colab": {}
      },
      "source": [
        "def join_words(): # <- Add the parameters on your own\n",
        "    # Your code\n",
        "    pass\n",
        "\n",
        "print(join_words('Tell', 'me', None, 'something', None, 'girl', None)) # (Tell me something girl, 3)"
      ],
      "execution_count": 0,
      "outputs": []
    },
    {
      "cell_type": "code",
      "metadata": {
        "id": "vrMVdnW-JEd7",
        "colab_type": "code",
        "colab": {}
      },
      "source": [
        "#@title Test your solution! { display-mode: \"form\" }\n",
        "class TestJoinWords(unittest.TestCase):\n",
        "    \n",
        "    def test_join_words(self):\n",
        "        words = ['Hey', 'there,', None, 'how\\'s', None, 'it goin?']\n",
        "        expected = ('Hey there, how\\'s it goin?', 3)\n",
        "        self.assertEqual(join_words(*words, expected))\n",
        "    \n",
        "    def test_join_no_words(self):\n",
        "        expected = ('', 100)\n",
        "        self.assertEqual(join_words(*[None]*100), 100)\n",
        "\n",
        "unittest.main(argv=['first-arg-is-ignored', 'TestJoinWords'], exit=False)"
      ],
      "execution_count": 0,
      "outputs": []
    },
    {
      "cell_type": "markdown",
      "metadata": {
        "id": "j6yuqjlAFX-9",
        "colab_type": "text"
      },
      "source": [
        "#Задача 4\n",
        "Напишете функция, която да намира n-тото число на Фибоначи. Какво са числата на фибоначи?\n",
        "\n",
        "$n_i = n_{i-1} + n_{i-2}$\n",
        "\n",
        "С други думи, всяко число се получава при събиране на предишните две. Ето ви началото:  \n",
        "__1, 1, 2, 3, 5, 8, 11, ...__"
      ]
    },
    {
      "cell_type": "code",
      "metadata": {
        "id": "aCGS0hTdHKsT",
        "colab_type": "code",
        "colab": {}
      },
      "source": [
        "def fibonacci(number):\n",
        "    # Your code\n",
        "    pass\n",
        "    \n",
        "print(fibonacci(8)) # 19"
      ],
      "execution_count": 0,
      "outputs": []
    },
    {
      "cell_type": "code",
      "metadata": {
        "id": "7EB1gPEGHV3y",
        "colab_type": "code",
        "colab": {}
      },
      "source": [
        "#@title Test your solution! { display-mode: \"form\" }\n",
        "class TestFibonacci(unittest.TestCase):\n",
        "    \n",
        "    def test_fibonacci(self):\n",
        "        test_numbers = [1, 2, 3, 10, 50]\n",
        "        expected = [1, 1, 2, 55, 12586269025]\n",
        "        for n, exp in zip(test_numbers, expected):\n",
        "            self.assertEqual(fibonacci(n), exp)\n",
        "\n",
        "unittest.main(argv=['first-arg-is-ignored', 'TestFibonacci'], exit=False)"
      ],
      "execution_count": 0,
      "outputs": []
    }
  ]
}