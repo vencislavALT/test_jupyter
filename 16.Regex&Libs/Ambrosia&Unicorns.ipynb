{
  "nbformat": 4,
  "nbformat_minor": 0,
  "metadata": {
    "colab": {
      "name": "Ambrosia&Unicorns.ipynb",
      "version": "0.3.2",
      "provenance": [],
      "include_colab_link": true
    },
    "kernelspec": {
      "name": "python3",
      "display_name": "Python 3"
    }
  },
  "cells": [
    {
      "cell_type": "markdown",
      "metadata": {
        "id": "view-in-github",
        "colab_type": "text"
      },
      "source": [
        "<a href=\"https://colab.research.google.com/github/vencislavALT/test_jupyter/blob/master/16.Regex%26Libs/Ambrosia%26Unicorns.ipynb\" target=\"_parent\"><img src=\"https://colab.research.google.com/assets/colab-badge.svg\" alt=\"Open In Colab\"/></a>"
      ]
    },
    {
      "cell_type": "code",
      "metadata": {
        "id": "HmKPPI_5hs8J",
        "colab_type": "code",
        "colab": {}
      },
      "source": [
        "#@title Execute me! { display-mode: \"form\" }\n",
        "def matcher(regex, string):\n",
        "    match = re.search(regex, string)\n",
        "    if match is None:\n",
        "        return string\n",
        "    start, end = match.span()\n",
        "    formatted = (string[:start]\n",
        "                 + '(' + string[start:end] + ')'\n",
        "                 + string[end:])\n",
        "    print(formatted)\n",
        "    #return formatted"
      ],
      "execution_count": 0,
      "outputs": []
    },
    {
      "cell_type": "markdown",
      "metadata": {
        "id": "9RxTbzbAegIf",
        "colab_type": "text"
      },
      "source": [
        "# Регулярни изрази"
      ]
    },
    {
      "cell_type": "code",
      "metadata": {
        "id": "uTj5MuAbdmPA",
        "colab_type": "code",
        "colab": {}
      },
      "source": [
        "import re\n",
        "\n",
        "def validate_phone_re(number):\n",
        "    pattern = r'^(02|032|052)?[5-9]\\d{4,6}$'\n",
        "    return bool(re.search(pattern, number))\n",
        "\n",
        "phone_somewhere = 'My number is 0885102394, call me!'\n",
        "print(validate_phone_re(phone_somewhere))"
      ],
      "execution_count": 0,
      "outputs": []
    },
    {
      "cell_type": "markdown",
      "metadata": {
        "id": "6jEuTHS3omCl",
        "colab_type": "text"
      },
      "source": [
        "## Lvl. 1"
      ]
    },
    {
      "cell_type": "code",
      "metadata": {
        "id": "H_rqVXPMhmIt",
        "colab_type": "code",
        "colab": {}
      },
      "source": [
        "matcher('o+', 'Goooooooogle')           # 'G(oooooooo)gle'\n",
        "matcher('[hH]o+', 'Hohohoho...')        # '(Ho)hohoho...'\n",
        "# Хм. Не искахме точно това. По-скоро:\n",
        "matcher('([hH]o)+', 'Hohohoho...')      # '(Hohohoho)...'\n",
        "matcher('([hH]o){2,3}', 'Hohohoho...')  # '(Hohoho)ho...'"
      ],
      "execution_count": 0,
      "outputs": []
    },
    {
      "cell_type": "code",
      "metadata": {
        "id": "uDt35ledkI9s",
        "colab_type": "code",
        "colab": {}
      },
      "source": [
        "matcher('[hH]o+', 'Hoooooohohooo...')   # '(Hoooooo)hohooo...'\n",
        "matcher('[hH]o+?', 'Hoooooohohooo...')  # '(Ho)ooooohohooo...'"
      ],
      "execution_count": 0,
      "outputs": []
    },
    {
      "cell_type": "markdown",
      "metadata": {
        "id": "RyZdDVDpooVf",
        "colab_type": "text"
      },
      "source": [
        "## Lvl. 2"
      ]
    },
    {
      "cell_type": "code",
      "metadata": {
        "id": "vhtFSSpAlEMb",
        "colab_type": "code",
        "colab": {}
      },
      "source": [
        "matcher('ab|c|e', 'abcdef')     # '(ab)cdef'\n",
        "matcher('am|c|e', 'abcdef')     # 'ab(c)def'\n",
        "matcher('a(m)|c|e', 'abcdef')   # 'ab(c)def'\n",
        "\n",
        "matcher('day|nice', 'A nice dance-day.')   # 'A (nice) dance-day.'\n",
        "matcher('da(y|n)ce', 'A nice dance-day.')  # 'A nice (dance)-day.'"
      ],
      "execution_count": 0,
      "outputs": []
    },
    {
      "cell_type": "code",
      "metadata": {
        "id": "54w4bGomlt24",
        "colab_type": "code",
        "colab": {}
      },
      "source": [
        "matcher('[aeoui]', 'Google') # 'G(o)ogle'\n",
        "\n",
        "matcher('[^CBL][aeoui]', 'Cobol')  # 'Co(bo)l'\n",
        "\n",
        "matcher('[0-9]{1,3}-[a-z]', 'Figure 42-b') # 'Figure (42-b)'\n",
        "matcher('[^a-zA-Z-]', 'Figure-42-b') # 'Figure-(4)2-b'"
      ],
      "execution_count": 0,
      "outputs": []
    },
    {
      "cell_type": "markdown",
      "metadata": {
        "id": "y365OJ47oq4W",
        "colab_type": "text"
      },
      "source": [
        "## Lvl. 3"
      ]
    },
    {
      "cell_type": "code",
      "metadata": {
        "id": "nDL7C3o0mE5P",
        "colab_type": "code",
        "colab": {}
      },
      "source": [
        "matcher(r'\\d+', 'Phone number: 5551234') # 'Phone number: (5551234)'\n",
        "matcher(r'\\w+', 'Phone number: 5551234') # '(Phone) number: 5551234'\n",
        "matcher(r'\\s+', 'Phone number: 5551234') # 'Phone( )number: 5551234'"
      ],
      "execution_count": 0,
      "outputs": []
    },
    {
      "cell_type": "markdown",
      "metadata": {
        "id": "GZWWF3TAosbP",
        "colab_type": "text"
      },
      "source": [
        "## Lvl. 4"
      ]
    },
    {
      "cell_type": "code",
      "metadata": {
        "id": "vFY6ywX1mkVz",
        "colab_type": "code",
        "colab": {}
      },
      "source": [
        "matcher(r'(\\w+).*\\1', 'Matches str if str repeats one of its words.');\n",
        "'M(atches str if str repeat)s one of its words.'\n",
        "\n",
        "# Хм. Не точно. Нека опитаме пак:\n",
        "matcher(r'(\\b\\w+\\b).*\\1', 'Matches str if str repeats one of its words.');\n",
        "'Matches (str if str) repeats one of its words.'"
      ],
      "execution_count": 0,
      "outputs": []
    },
    {
      "cell_type": "markdown",
      "metadata": {
        "id": "MR8kQeQro93O",
        "colab_type": "text"
      },
      "source": [
        "##Задача:\n",
        "Да се провери дали дадено число е просто чрез един ред пайтън-код и регулярен израз. Разрешени са:\n",
        "\n",
        "* Самото число, разбира се.\n",
        "* re.search с подходящ шаблон.\n",
        "* Употребата на низа '1'.\n",
        "* Операторa *."
      ]
    },
    {
      "cell_type": "markdown",
      "metadata": {
        "id": "GB56TXn3ovWo",
        "colab_type": "text"
      },
      "source": [
        "# Библиотеки"
      ]
    }
  ]
}