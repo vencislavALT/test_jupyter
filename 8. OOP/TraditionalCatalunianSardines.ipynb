{
  "nbformat": 4,
  "nbformat_minor": 0,
  "metadata": {
    "colab": {
      "name": "Untitled3.ipynb",
      "version": "0.3.2",
      "provenance": [],
      "include_colab_link": true
    },
    "kernelspec": {
      "name": "python3",
      "display_name": "Python 3"
    }
  },
  "cells": [
    {
      "cell_type": "markdown",
      "metadata": {
        "id": "view-in-github",
        "colab_type": "text"
      },
      "source": [
        "<a href=\"https://colab.research.google.com/github/vencislavALT/test_jupyter/blob/master/8.%20OOP/TraditionalCatalunianSardines.ipynb\" target=\"_parent\"><img src=\"https://colab.research.google.com/assets/colab-badge.svg\" alt=\"Open In Colab\"/></a>"
      ]
    },
    {
      "cell_type": "markdown",
      "metadata": {
        "id": "LMZXNnoy7eNs",
        "colab_type": "text"
      },
      "source": [
        "# Vehicles"
      ]
    },
    {
      "cell_type": "code",
      "metadata": {
        "id": "qNIcv8cCor5Q",
        "colab_type": "code",
        "colab": {
          "base_uri": "https://localhost:8080/",
          "height": 101
        },
        "outputId": "62992486-33a6-4792-84ee-33577b7cac88"
      },
      "source": [
        "class Vehicle:\n",
        "    def __init__(self):\n",
        "        self.registry_number = 'Empty plate'\n",
        "\n",
        "    def use_blinker(self):\n",
        "        return 'tsi tsu tsi tsu'\n",
        "\n",
        "class Car(Vehicle):\n",
        "    def use_hanbrake(self):\n",
        "        return 'hrrrrrrrr'\n",
        "\n",
        "class Motorcycle(Vehicle):\n",
        "    def enable_speed_mode(self):\n",
        "        return 'ruuuuuuuuuuuuuuuuuuuuuuuuuu'\n",
        "\n",
        "class Truck(Vehicle):\n",
        "    def i_am_out_of_ideas_but_i_had_to_put_something_here(self):\n",
        "        return 'o well.'\n",
        "\n",
        "vehicle = Vehicle()\n",
        "car = Car()\n",
        "print(vehicle.registry_number) # Empty plate\n",
        "print(car.registry_number) # Empty plate\n",
        "print(vehicle.use_blinker()) # tsi tsu tsi tsu\n",
        "print(car.use_hanbrake()) # hrrrrrrrr\n",
        "print(car.use_blinker()) # tsi tsu tsi tsu"
      ],
      "execution_count": 1,
      "outputs": [
        {
          "output_type": "stream",
          "text": [
            "Empty plate\n",
            "Empty plate\n",
            "tsi tsu tsi tsu\n",
            "hrrrrrrrr\n",
            "tsi tsu tsi tsu\n"
          ],
          "name": "stdout"
        }
      ]
    },
    {
      "cell_type": "code",
      "metadata": {
        "id": "aHD8NH2d7xmy",
        "colab_type": "code",
        "colab": {}
      },
      "source": [
        "class Vehicle:\n",
        "    def __init__(self):\n",
        "        self.registry_number = 'Empty plate'\n",
        "\n",
        "    def use_blinker(self):\n",
        "        return 'tsi tsu tsi tsu'\n",
        "\n",
        "class Car(Vehicle):\n",
        "    def __init__(self):\n",
        "        self.side_mirrors = 2\n",
        "        Vehicle.__init__(self)\n",
        "        \n",
        "    def use_blinker(self):\n",
        "        blinker_sound = super().use_blinker()\n",
        "        return blinker_sound + self.use_handbrake()\n",
        "\n",
        "    def use_hanbrake(self):\n",
        "        return 'hrrrrrrrr'\n",
        "\n",
        "car = Car()\n",
        "print(car.side_mirrors) # 2\n",
        "print(car.registry_number) # Empty plate\n",
        "print(car.use_blinker()) # tsi tsu tsi tsuhrrrrrrrr"
      ],
      "execution_count": 0,
      "outputs": []
    },
    {
      "cell_type": "markdown",
      "metadata": {
        "id": "C26nhwE08Qpe",
        "colab_type": "text"
      },
      "source": [
        "#Do it like they do on the Discovery channel"
      ]
    },
    {
      "cell_type": "code",
      "metadata": {
        "id": "g04nwmkV8TMP",
        "colab_type": "code",
        "colab": {}
      },
      "source": [
        "class Animal:\n",
        "    def __init__(self, animalName):\n",
        "        print(animalName, 'is an animal.');\n",
        "\n",
        "\n",
        "class Mammal(Animal):\n",
        "    def __init__(self, mammalName):\n",
        "        print(mammalName, 'is a warm-blooded animal.')\n",
        "        super().__init__(mammalName)\n",
        "\n",
        "\n",
        "class NonWingedMammal(Mammal):\n",
        "    def __init__(self, NonWingedMammalName):\n",
        "        print(NonWingedMammalName, \"can't fly.\")\n",
        "        super().__init__(NonWingedMammalName)\n",
        "\n",
        "class NonMarineMammal(Mammal):\n",
        "    def __init__(self, NonMarineMammalName):\n",
        "        print(NonMarineMammalName, \"can't swim.\")\n",
        "        super().__init__(NonMarineMammalName)\n",
        "\n",
        "class Dog(NonMarineMammal, NonWingedMammal):\n",
        "    def __init__(self):\n",
        "        print('Dog has 4 legs.');\n",
        "        super().__init__('Dog')\n",
        "\n",
        "\n",
        "d = Dog()\n",
        "print('')\n",
        "bat = NonMarineMammal('Bat')"
      ],
      "execution_count": 0,
      "outputs": []
    }
  ]
}