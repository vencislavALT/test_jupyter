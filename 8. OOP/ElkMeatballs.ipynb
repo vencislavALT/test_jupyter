{
  "nbformat": 4,
  "nbformat_minor": 0,
  "metadata": {
    "colab": {
      "name": "ElkMeatballs.ipynb",
      "version": "0.3.2",
      "provenance": [],
      "collapsed_sections": [],
      "include_colab_link": true
    },
    "kernelspec": {
      "name": "python3",
      "display_name": "Python 3"
    }
  },
  "cells": [
    {
      "cell_type": "markdown",
      "metadata": {
        "id": "view-in-github",
        "colab_type": "text"
      },
      "source": [
        "<a href=\"https://colab.research.google.com/github/vencislavALT/test_jupyter/blob/master/8.%20OOP/ElkMeatballs.ipynb\" target=\"_parent\"><img src=\"https://colab.research.google.com/assets/colab-badge.svg\" alt=\"Open In Colab\"/></a>"
      ]
    },
    {
      "cell_type": "markdown",
      "metadata": {
        "id": "DN8pDod_ujJA",
        "colab_type": "text"
      },
      "source": [
        "#Задача!"
      ]
    },
    {
      "cell_type": "code",
      "metadata": {
        "id": "orCGrz4gta2w",
        "colab_type": "code",
        "colab": {}
      },
      "source": [
        "#@title Click me! { display-mode: \"form\" }\n",
        "from IPython.display import HTML\n",
        "\n",
        "# Youtube\n",
        "HTML('<iframe width=\"560\" height=\"315\" src=\"https://www.youtube.com/embed/0YyO-BO0n_Y\" frameborder=\"0\" allow=\"accelerometer; autoplay; encrypted-media; gyroscope; picture-in-picture\" allowfullscreen></iframe>')"
      ],
      "execution_count": 0,
      "outputs": []
    },
    {
      "cell_type": "markdown",
      "metadata": {
        "id": "0k6nxBhKwY3S",
        "colab_type": "text"
      },
      "source": [
        "Точно така, ще трябва да направите нещо свързано с Minecraft!\n",
        "\n",
        "В Майнкрафт има най-различни типове блокчета - пръст, вода, лед, вълна, оцветена вълна, обсидиан и стотици други.  \n",
        "Всички блокове могат да **счупени, съхранени в сандък и обединени в предмет (няколко от тях)**.\n",
        "Искаме да имплементираме няколко типа блокове, които да поддържат тази функционалност, но с леки разлики:\n",
        "\n",
        "\n",
        "*   Grass - когато се счупи, получаваме Dirt.\n",
        "*   Stone - не може да се счупи, ако не се използва кирка. Когато се счупи, получаваме Cobblestone.\n",
        "*   Metal - не може да се обедини в предмет ако не използваме пещ. Приемаме, че не можем да го счупим.\n",
        "*   Water - не може да се съхрани в съндък. Ако се счупи, изчезва.\n",
        "\n",
        "Също така искаме да имаме предмети. Предметите могат да се **сглобяват**, могат и да се **разрушават** (употребата я оставяме настрана). Когато се разрушат, в общият случай връщат съставните си части.\n",
        "\n",
        "*   Chest - Wood + Wood + Metal.\n",
        "*   Potted Plant - Stone + Water + Grass. Когато се разруши получаваме само Stone + Dirt.\n",
        "\n",
        "Ето няколко кратки примера, останалото е за вас:"
      ]
    },
    {
      "cell_type": "code",
      "metadata": {
        "id": "rVJYZrhzy9hS",
        "colab_type": "code",
        "colab": {}
      },
      "source": [
        "grass = Grass()\n",
        "print(grass.break()) # Dirt\n",
        "\n",
        "stone = Stone()\n",
        "print(stone.break()) # Cannot break stone without a pickaxe"
      ],
      "execution_count": 0,
      "outputs": []
    }
  ]
}