{
  "nbformat": 4,
  "nbformat_minor": 0,
  "metadata": {
    "colab": {
      "name": "Salmon.ipynb",
      "version": "0.3.2",
      "provenance": [],
      "include_colab_link": true
    },
    "kernelspec": {
      "name": "python3",
      "display_name": "Python 3"
    }
  },
  "cells": [
    {
      "cell_type": "markdown",
      "metadata": {
        "id": "view-in-github",
        "colab_type": "text"
      },
      "source": [
        "<a href=\"https://colab.research.google.com/github/vencislavALT/test_jupyter/blob/master/8.%20OOP/Salmon.ipynb\" target=\"_parent\"><img src=\"https://colab.research.google.com/assets/colab-badge.svg\" alt=\"Open In Colab\"/></a>"
      ]
    },
    {
      "cell_type": "markdown",
      "metadata": {
        "id": "MUA6YhrA6YXA",
        "colab_type": "text"
      },
      "source": [
        "Работим по слайд 6 от презентацията. Искаме да създадем следната безсмислена ситуация:\n",
        "\n",
        "# Сграда:\n",
        "\n",
        "Свойства: \n",
        "\n",
        "*   брой етажи\n",
        "*   куче пазач\n",
        "*   списък от компютри\n",
        "\n",
        "Операции:\n",
        "\n",
        "*   пускане на противопожарна аларма - при това действие всички компютри изгарят\n",
        "*   уволнение  на куче пазач след беля - при това действие 1 произволен компютър изгаря и кучето пазач се заменя с ново, като старото изскимтява един последен път преди това да се случи :(\n",
        "\n",
        "Искаме да създадем 2 различни сгради, като всяка има уникален брой етажи, уникално куче пазач и уникален списък от компютри.\n",
        "\n",
        "#   Куче пазач\n",
        "\n",
        "Свойства:\n",
        "\n",
        "*   Порода\n",
        "*   Години\n",
        "*   Име\n",
        "\n",
        "Операции:\n",
        "\n",
        "*   Скимтене - изпринтва звука \"AWWWWWW\"\n",
        "\n",
        "#   Компютър\n",
        "\n",
        "Свойства:\n",
        "\n",
        "*   модел(може да е само Asus || Dell)\n",
        "*   състояние(Working)\n",
        "\n",
        "    "
      ]
    },
    {
      "cell_type": "markdown",
      "metadata": {
        "id": "ECIYCS-N9tSF",
        "colab_type": "text"
      },
      "source": [
        "Опитайте се да пресъздадете горното условие в 3-те стила: ПП, Фукнционално и ООП."
      ]
    }
  ]
}