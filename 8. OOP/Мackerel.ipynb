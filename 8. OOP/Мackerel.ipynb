{
  "nbformat": 4,
  "nbformat_minor": 0,
  "metadata": {
    "colab": {
      "name": "Мackerel.ipynb",
      "version": "0.3.2",
      "provenance": [],
      "include_colab_link": true
    },
    "kernelspec": {
      "name": "python3",
      "display_name": "Python 3"
    }
  },
  "cells": [
    {
      "cell_type": "markdown",
      "metadata": {
        "id": "view-in-github",
        "colab_type": "text"
      },
      "source": [
        "<a href=\"https://colab.research.google.com/github/vencislavALT/test_jupyter/blob/master/8.%20OOP/%D0%9Cackerel.ipynb\" target=\"_parent\"><img src=\"https://colab.research.google.com/assets/colab-badge.svg\" alt=\"Open In Colab\"/></a>"
      ]
    },
    {
      "cell_type": "code",
      "metadata": {
        "id": "XvzYYZwWhxJf",
        "colab_type": "code",
        "colab": {}
      },
      "source": [
        "class Antivegan:\n",
        "    def __init__(self, phrase):\n",
        "        self.phrase = phrase\n",
        "\n",
        "    def slogan(self):\n",
        "        return 'No-leaf sign!'\n",
        "    \n",
        "    def action_when_encountering_vegan(self):\n",
        "        step1 = self._step1()\n",
        "        step2 = self._step2()\n",
        "        step3 = self.__step3()\n",
        "        return [step1, step2, step3]\n",
        "\n",
        "    def _step1(self):\n",
        "        return 'pat on the back'\n",
        "    def _step2(self):\n",
        "        return 'hug from behind'\n",
        "    def __step3(self):\n",
        "        return 'suplex the vegan'\n",
        "    \n",
        "ventsi = Antivegan(\"My girlfriend won't let me eat meat, send help :(\")\n",
        "viktor = Antivegan(\"I am undercover vegan, I will bring down the organization from within, MUHAHA! \")\n",
        "\n",
        "\n",
        "print('Ventsi')\n",
        "print(ventsi.phrase)\n",
        "print(ventsi.slogan())\n",
        "print(ventsi.action_when_encountering_vegan())\n",
        "\n",
        "print('*'*40)\n",
        "\n",
        "print('Viktor')\n",
        "print(viktor.phrase)\n",
        "print(viktor.slogan())\n",
        "print(viktor.action_when_encountering_vegan())"
      ],
      "execution_count": 0,
      "outputs": []
    },
    {
      "cell_type": "markdown",
      "metadata": {
        "id": "0tsU13tWi1xt",
        "colab_type": "text"
      },
      "source": [
        "# A bit of interesting magic with self:"
      ]
    },
    {
      "cell_type": "code",
      "metadata": {
        "id": "mhlHGLYui6yV",
        "colab_type": "code",
        "colab": {}
      },
      "source": [
        "class C:\n",
        "    def __init__(self, phrase):\n",
        "        self.phrase = phrase\n",
        "\n",
        "    def random_method(self):\n",
        "        print(self.phrase)\n",
        "\n",
        "test_object = C('test phrase')\n",
        "C.random_method(test_object)"
      ],
      "execution_count": 0,
      "outputs": []
    },
    {
      "cell_type": "code",
      "metadata": {
        "id": "xFIN1XvZjiLX",
        "colab_type": "code",
        "colab": {}
      },
      "source": [
        "class D:\n",
        "    def what_do_I_have(self):\n",
        "        print(self.print_me)\n",
        "\n",
        "def add_print_value(myself, print_me):\n",
        "    myself.print_me = print_me\n",
        "    \n",
        "D.add_print_value = add_print_value\n",
        "\n",
        "a_class = D()\n",
        "a_class.add_print_value(\"I should get printed!\")\n",
        "a_class.what_do_I_have()"
      ],
      "execution_count": 0,
      "outputs": []
    }
  ]
}