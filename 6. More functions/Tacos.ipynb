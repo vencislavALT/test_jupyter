{
  "nbformat": 4,
  "nbformat_minor": 0,
  "metadata": {
    "colab": {
      "name": "Tacos.ipynb",
      "version": "0.3.2",
      "provenance": [],
      "include_colab_link": true
    },
    "kernelspec": {
      "name": "python3",
      "display_name": "Python 3"
    }
  },
  "cells": [
    {
      "cell_type": "markdown",
      "metadata": {
        "id": "view-in-github",
        "colab_type": "text"
      },
      "source": [
        "<a href=\"https://colab.research.google.com/github/vencislavALT/test_jupyter/blob/master/6.%20More%20functions/Tacos.ipynb\" target=\"_parent\"><img src=\"https://colab.research.google.com/assets/colab-badge.svg\" alt=\"Open In Colab\"/></a>"
      ]
    },
    {
      "cell_type": "markdown",
      "metadata": {
        "id": "3UCiZ3UZ5dCN",
        "colab_type": "text"
      },
      "source": [
        "<h3> More map/filter examples with lambda </h3>"
      ]
    },
    {
      "cell_type": "code",
      "metadata": {
        "id": "yXOuQIJ76HXO",
        "colab_type": "code",
        "colab": {}
      },
      "source": [
        "dict_a = [{'name': 'python', 'points': 10}, {'name': 'java', 'points': 8}]\n",
        "  \n",
        "print(list(map(lambda x : x['name'], dict_a)))\n",
        "  \n",
        "print(list(map(lambda x : x['points']*10,  dict_a)))\n",
        "\n",
        "print(list(map(lambda x : x['name'] == \"python\", dict_a)))"
      ],
      "execution_count": 0,
      "outputs": []
    },
    {
      "cell_type": "code",
      "metadata": {
        "id": "F10PR6H4aS6K",
        "colab_type": "code",
        "colab": {}
      },
      "source": [
        "result = map(lambda x:int(x), input().split())\n",
        "print(list(result))"
      ],
      "execution_count": 0,
      "outputs": []
    },
    {
      "cell_type": "code",
      "metadata": {
        "id": "KWBKKDS26QzS",
        "colab_type": "code",
        "colab": {}
      },
      "source": [
        "\n",
        "dict_a = [{'name': 'python', 'points': 10}, {'name': 'java', 'points': 8}]\n",
        "\n",
        "print(list(filter(lambda x : x['name'] == 'python', dict_a)))"
      ],
      "execution_count": 0,
      "outputs": []
    },
    {
      "cell_type": "markdown",
      "metadata": {
        "id": "2VUUVQt3ETVF",
        "colab_type": "text"
      },
      "source": [
        "<h3> Lazy evaluation and generators </h3>"
      ]
    },
    {
      "cell_type": "code",
      "metadata": {
        "id": "WEQ361tEIV2u",
        "colab_type": "code",
        "colab": {}
      },
      "source": [
        "def actors_generator():\n",
        "    yield 'Graham Chapman' # “returns” the value\n",
        "    yield 'John Cleese'\n",
        "    yield 'Terry Gilliam'\n",
        "    yield 'Eric Idle'\n",
        "    yield 'Terry Jones'\n",
        "    yield 'Michael Palin'\n",
        "\n",
        "actors = actors_generator()\n",
        "for actor in actors:\n",
        "    print(actor + ' as seen on British TV')"
      ],
      "execution_count": 0,
      "outputs": []
    },
    {
      "cell_type": "code",
      "metadata": {
        "id": "AM5ZrUokE6nn",
        "colab_type": "code",
        "colab": {}
      },
      "source": [
        "def divby2(n):\n",
        "    num = 0\n",
        "    while num < n:\n",
        "        yield num/2\n",
        "        num += 1\n",
        "generator = divby2(20)\n",
        "print(generator)\n",
        "print(next(generator))\n",
        "print(next(generator))\n",
        "print(next(generator))"
      ],
      "execution_count": 0,
      "outputs": []
    },
    {
      "cell_type": "markdown",
      "metadata": {
        "id": "-9H9YMDrIzOp",
        "colab_type": "text"
      },
      "source": [
        "<h3> Decorators </h3>"
      ]
    },
    {
      "cell_type": "code",
      "metadata": {
        "id": "llrDw2RY3gSt",
        "colab_type": "code",
        "colab": {}
      },
      "source": [
        "from datetime import datetime\n",
        "\n",
        "def not_during_the_night(func):\n",
        "    def wrapper():\n",
        "        if 7 <= datetime.now().hour < 22:\n",
        "            func()\n",
        "        else:\n",
        "            shut_up()\n",
        "    return wrapper\n",
        "\n",
        "def say_whee():\n",
        "    print(\"Whee!\")\n",
        "\n",
        "def shut_up():\n",
        "    print(\"Hush, the neighbors are asleep!\")\n",
        "\n",
        "say_whee = not_during_the_night(say_whee)\n",
        "say_whee()"
      ],
      "execution_count": 0,
      "outputs": []
    },
    {
      "cell_type": "code",
      "metadata": {
        "id": "5e_cPh0JI2b_",
        "colab_type": "code",
        "colab": {}
      },
      "source": [
        "def spam(n):\n",
        "    spams = (\"spam\", ) * (n - 1)\n",
        "    return \"I would like {} and spam\".format(\", \".join(spams))\n",
        "\n",
        "def eggs(n):\n",
        "    return \"I would like {} eggs\".format(n)\n",
        "\n",
        "def served_by(func, server):\n",
        "    def cached_server(n):\n",
        "        return \"{}, dear {}\".format(func(n), server)\n",
        "    return cached_server\n",
        "\n",
        "eggs = served_by(eggs, \"sir\")\n",
        "spam = served_by(spam, \"sir\")\n",
        "\n",
        "print(eggs(5))\n",
        "print(spam(10))"
      ],
      "execution_count": 0,
      "outputs": []
    },
    {
      "cell_type": "code",
      "metadata": {
        "id": "8UVe7RVFKahy",
        "colab_type": "code",
        "colab": {}
      },
      "source": [
        "from time import sleep\n",
        "\n",
        "def postpone_answer(delay):\n",
        "    def real_decorator(function):\n",
        "        def wrapper(*args,**kwargs):\n",
        "            sleep(delay)\n",
        "            return function(*args,**kwargs)\n",
        "        return wrapper\n",
        "    return real_decorator\n",
        "\n",
        "@postpone_answer(7)\n",
        "def adder(a,b):\n",
        "\treturn a + b\n",
        "\n",
        "print(adder(2,3))"
      ],
      "execution_count": 0,
      "outputs": []
    }
  ]
}