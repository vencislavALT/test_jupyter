{
  "nbformat": 4,
  "nbformat_minor": 0,
  "metadata": {
    "colab": {
      "name": "Burrito.ipynb",
      "version": "0.3.2",
      "provenance": [],
      "include_colab_link": true
    },
    "kernelspec": {
      "name": "python3",
      "display_name": "Python 3"
    }
  },
  "cells": [
    {
      "cell_type": "markdown",
      "metadata": {
        "id": "view-in-github",
        "colab_type": "text"
      },
      "source": [
        "<a href=\"https://colab.research.google.com/github/vencislavALT/test_jupyter/blob/master/6.%20More%20functions/Burrito.ipynb\" target=\"_parent\"><img src=\"https://colab.research.google.com/assets/colab-badge.svg\" alt=\"Open In Colab\"/></a>"
      ]
    },
    {
      "cell_type": "code",
      "metadata": {
        "id": "4RC8sSSbvk3o",
        "colab_type": "code",
        "colab": {}
      },
      "source": [
        "#@title Run me! { display-mode: \"form\" }\n",
        "import unittest"
      ],
      "execution_count": 0,
      "outputs": []
    },
    {
      "cell_type": "markdown",
      "metadata": {
        "id": "v3pBVJRtb2sy",
        "colab_type": "text"
      },
      "source": [
        "Имате списък от списъци в следния вид:\n",
        "\n",
        "```\n",
        "orders = [ [\"34587\", \"Learning Python, Mark Lutz\", 4, 40.95], \n",
        "\t       [\"98762\", \"Programming Python, Mark Lutz\", 5, 56.80], \n",
        "           [\"77226\", \"Head First Python, Paul Barry\", 3,32.95],\n",
        "           [\"88112\", \"Einführung in Python3, Bernd Klein\", \t3, 24.99]]\n",
        "```\n",
        "\n",
        "Всеки списък е нареден по следния начин от ляво на дясно:\n",
        "\n",
        "\n",
        "0.   Номер на поръчка\n",
        "1.   Име на книга\n",
        "2.   Количество\n",
        "3.   Цена на една бройка\n",
        "\n",
        "Искаме да обработим този списък и като резултат да получим структура от вида:\n",
        "\n",
        "\n",
        "```\n",
        "[(номер на артикул 1, количество*цена за артикул 1), (номер на артикул 2, количество*цена за артикул 2) ]\n",
        "```\n",
        "\n",
        "Давам ви цял един ред да решите задачата!\n",
        "\n",
        "\n",
        "\n",
        "\n"
      ]
    },
    {
      "cell_type": "code",
      "metadata": {
        "id": "JkUZjV-3dHX7",
        "colab_type": "code",
        "colab": {}
      },
      "source": [
        "orders = [ [\"34587\", \"Learning Python, Mark Lutz\", 4, 40.95], \n",
        "           [\"98762\", \"Programming Python, Mark Lutz\", 5, 56.80], \n",
        "           [\"77226\", \"Head First Python, Paul Barry\", 3, 32.95],\n",
        "           [\"88112\", \"Einführung in Python3, Bernd Klein\", 3, 24.99]]\n",
        "invoice = 'Replace me with code'"
      ],
      "execution_count": 0,
      "outputs": []
    },
    {
      "cell_type": "code",
      "metadata": {
        "id": "TF5gdGyFdXqV",
        "colab_type": "code",
        "colab": {}
      },
      "source": [
        "#@title Test yourself { display-mode: \"form\" }\n",
        "class TestShoppingList(unittest.TestCase):\n",
        "    \n",
        "    \n",
        "    def test_the_result(self):\n",
        "        self.assertEqual(invoice, [('34587', 163.8), ('98762', 284.0), ('77226', 98.85000000000001), ('88112', 74.97)])\n",
        "\n",
        "unittest.main(argv=['first-arg-is-ignored', 'TestShoppingList'], exit=False)"
      ],
      "execution_count": 0,
      "outputs": []
    },
    {
      "cell_type": "markdown",
      "metadata": {
        "id": "nd9I-mgzmjxi",
        "colab_type": "text"
      },
      "source": [
        "<h4> Memoization </h4>\n",
        "Да накодим мемоизация... Ъъ, а какво е мемоизация?... Накратко начин да запазваме резултат от функция, без да трябва да минаваме през всички \"тежки\" изчисления отново. Например:\n",
        "\n",
        "\n",
        "```\n",
        "def addition(a, b):\n",
        "    return a+b\n",
        "```\n",
        "\n",
        "\n",
        "\n",
        "Ако извикам 1 път addition с аргументи(5, 6) трябва да извърша операцията + във функцията и да получа 11.\n",
        "Ако извикам отново addition с аргументи(5, 6) трябва да получа веднага 11 без да минавам през \"тежката\" операция.(в нашия случай просто да изпринтим нещо за да сигнализираме, че не сме изпълнили тежката операция)\n",
        "\n",
        "Функции, за които мемоизацията трябва да работи:\n",
        "\n",
        "*  addition(a, b) -> събира 2 числа\n",
        "*  toUpper(word) -> получава стринг и връща същия стринг, но всички букви в него са главни\n",
        "\n",
        "Допълнителни условия: Нямаме право да бъркаме в тялото на функциите.\n",
        "\n"
      ]
    },
    {
      "cell_type": "code",
      "metadata": {
        "id": "v-EsRdZp0pSw",
        "colab_type": "code",
        "colab": {}
      },
      "source": [
        "def memoization(func):\n",
        "    pass\n",
        "\n",
        "@memoization\n",
        "def addition(a, b):\n",
        "    return a+b\n",
        "\n",
        "@memoization\n",
        "def toUpper(word):\n",
        "    return word.upper()\n",
        "\n",
        "\n",
        "print(addition(1,3))\n",
        "print(addition(1,3))\n",
        "\n",
        "print(toUpper('test'))\n",
        "print(toUpper('test'))"
      ],
      "execution_count": 0,
      "outputs": []
    },
    {
      "cell_type": "markdown",
      "metadata": {
        "id": "0HI2qvbquSBZ",
        "colab_type": "text"
      },
      "source": [
        "<h3> Fibonacci generator </h3>\n",
        "Напишете генератор за фибоначи числа, който при всяко извикване дава следващото число във веригата до безкрай.\n",
        "Част от веригата: [0, 1, 1, 2, 3, 5, 8, 13, 21, 34, 55, 89, 144, 233, 377,....]"
      ]
    },
    {
      "cell_type": "code",
      "metadata": {
        "id": "zhtn_lldwMQe",
        "colab_type": "code",
        "colab": {}
      },
      "source": [
        "def fibonacci():\n",
        "    pass"
      ],
      "execution_count": 0,
      "outputs": []
    },
    {
      "cell_type": "code",
      "metadata": {
        "id": "WuvPWR_vwSvp",
        "colab_type": "code",
        "colab": {}
      },
      "source": [
        "#@title Test yourself { display-mode: \"form\" }\n",
        "class TestFibo(unittest.TestCase):\n",
        "    \n",
        "    \n",
        "    def test_the_first_10(self):\n",
        "        fib_generator = fibonacci()\n",
        "        fib_list = [0, 1, 1, 2, 3, 5, 8, 13, 21, 34, 55, 89, 144, 233, 377, 610, 987, 1597, 2584, 4181, 6765, 10946, 17711, 28657, 46368, 75025, 121393, 196418, 317811]\n",
        "        for fib_number in fib_list:\n",
        "            self.assertEqual(next(fib_generator), fib_number)\n",
        "\n",
        "unittest.main(argv=['first-arg-is-ignored', 'TestFibo'], exit=False)"
      ],
      "execution_count": 0,
      "outputs": []
    }
  ]
}