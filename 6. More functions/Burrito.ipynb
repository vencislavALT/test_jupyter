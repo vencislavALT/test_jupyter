{
  "nbformat": 4,
  "nbformat_minor": 0,
  "metadata": {
    "colab": {
      "name": "Burrito.ipynb",
      "version": "0.3.2",
      "provenance": [],
      "include_colab_link": true
    },
    "kernelspec": {
      "name": "python3",
      "display_name": "Python 3"
    }
  },
  "cells": [
    {
      "cell_type": "markdown",
      "metadata": {
        "id": "view-in-github",
        "colab_type": "text"
      },
      "source": [
        "<a href=\"https://colab.research.google.com/github/vencislavALT/test_jupyter/blob/master/6.%20More%20functions/Burrito.ipynb\" target=\"_parent\"><img src=\"https://colab.research.google.com/assets/colab-badge.svg\" alt=\"Open In Colab\"/></a>"
      ]
    },
    {
      "cell_type": "code",
      "metadata": {
        "id": "4RC8sSSbvk3o",
        "colab_type": "code",
        "colab": {}
      },
      "source": [
        "#@title Run me! { display-mode: \"form\" }\n",
        "import unittest"
      ],
      "execution_count": 0,
      "outputs": []
    },
    {
      "cell_type": "markdown",
      "metadata": {
        "id": "nd9I-mgzmjxi",
        "colab_type": "text"
      },
      "source": [
        "<h4> 1. Memoization </h4>\n",
        "Да накодим мемоизация... Ъъ, а какво е мемоизация?... Накратко начин да запазваме резултат от функция, без да трябва да минаваме през всички \"тежки\" изчисления отново. Например:\n",
        "\n",
        "\n",
        "```\n",
        "def addition(a, b):\n",
        "    return a+b\n",
        "```\n",
        "\n",
        "\n",
        "\n",
        "Ако извикам 1 път addition с аргументи(5, 6) трябва да извърша операцията + във функцията и да получа 11.\n",
        "Ако извикам отново addition с аргументи(5, 6) трябва да получа веднага 11 без да минавам през \"тежката\" операция.\n",
        "\n",
        "Функции, за които мемоизацията трябва да работи:\n",
        "\n",
        "*  addition(a, b) -> събира 2 числа\n",
        "*  toUpper(word) -> получава стринг и връща същия стринг, но всички букви в него са главни\n",
        "*  reverse(word) -> получава стринг и го обръща на обратно\n",
        "\n",
        "Допълнителни условия: Нямаме право да бъркаме в тялото на функциите.\n",
        "\n"
      ]
    },
    {
      "cell_type": "code",
      "metadata": {
        "id": "v-EsRdZp0pSw",
        "colab_type": "code",
        "colab": {}
      },
      "source": [
        "def addition(a, b):\n",
        "    return a+b\n",
        "\n",
        "def toUpper(word):\n",
        "    return word.upper()\n",
        "\n",
        "def reverse:\n",
        "    return word[::-1]"
      ],
      "execution_count": 0,
      "outputs": []
    },
    {
      "cell_type": "markdown",
      "metadata": {
        "id": "0HI2qvbquSBZ",
        "colab_type": "text"
      },
      "source": [
        "<h3> 2. Fibonacci generator </h3>\n",
        "Напишете генератор за фибоначи числа, който при всяко извикване дава следващото число във веригата.\n",
        "Част от веригата: [0, 1, 1, 2, 3, 5, 8, 13, 21, 34, 55, 89, 144, 233, 377,....]"
      ]
    },
    {
      "cell_type": "code",
      "metadata": {
        "id": "zhtn_lldwMQe",
        "colab_type": "code",
        "colab": {}
      },
      "source": [
        "def fibonacci():\n",
        "    \"\"\" Generator yielding Fibonacci numbers\n",
        "    \n",
        "    :returns: int -- Fibonacci number as an integer\n",
        "    \"\"\"\n",
        "    pass"
      ],
      "execution_count": 0,
      "outputs": []
    },
    {
      "cell_type": "code",
      "metadata": {
        "id": "WuvPWR_vwSvp",
        "colab_type": "code",
        "outputId": "d3066b65-476e-43ed-9f33-18ae0eb27218",
        "colab": {
          "base_uri": "https://localhost:8080/",
          "height": 119
        }
      },
      "source": [
        "#@title Test yourself { display-mode: \"form\" }\n",
        "class TestFibo(unittest.TestCase):\n",
        "    \n",
        "    \n",
        "    def test_the_first_10(self):\n",
        "        fib_generator = fibonacci()\n",
        "        fib_list = [0, 1, 1, 2, 3, 5, 8, 13, 21, 34, 55, 89, 144, 233, 377, 610, 987, 1597, 2584, 4181, 6765, 10946, 17711, 28657, 46368, 75025, 121393, 196418, 317811]\n",
        "        for fib_number in fib_list:\n",
        "            self.assertEqual(next(fib_generator), fib_number)\n",
        "\n",
        "unittest.main(argv=['first-arg-is-ignored', 'TestFibo'], exit=False)"
      ],
      "execution_count": 17,
      "outputs": [
        {
          "output_type": "stream",
          "text": [
            ".\n",
            "----------------------------------------------------------------------\n",
            "Ran 1 test in 0.001s\n",
            "\n",
            "OK\n"
          ],
          "name": "stderr"
        },
        {
          "output_type": "execute_result",
          "data": {
            "text/plain": [
              "<unittest.main.TestProgram at 0x7f1fea0f16a0>"
            ]
          },
          "metadata": {
            "tags": []
          },
          "execution_count": 17
        }
      ]
    }
  ]
}