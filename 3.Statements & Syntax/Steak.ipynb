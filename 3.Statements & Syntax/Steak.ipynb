{
  "nbformat": 4,
  "nbformat_minor": 0,
  "metadata": {
    "colab": {
      "name": "Steak.ipynb",
      "version": "0.3.2",
      "provenance": [],
      "include_colab_link": true
    },
    "kernelspec": {
      "name": "python3",
      "display_name": "Python 3"
    }
  },
  "cells": [
    {
      "cell_type": "markdown",
      "metadata": {
        "id": "view-in-github",
        "colab_type": "text"
      },
      "source": [
        "<a href=\"https://colab.research.google.com/github/vencislavALT/test_jupyter/blob/master/3.Statements%20%26%20Syntax/Steak.ipynb\" target=\"_parent\"><img src=\"https://colab.research.google.com/assets/colab-badge.svg\" alt=\"Open In Colab\"/></a>"
      ]
    },
    {
      "cell_type": "markdown",
      "metadata": {
        "id": "TdPvWAt4CiSZ",
        "colab_type": "text"
      },
      "source": [
        "<h1> Assignments <h1>\n",
        "<h3> Its all fun and games with assignments </h3>"
      ]
    },
    {
      "cell_type": "code",
      "metadata": {
        "id": "w0zGxB1lCXN3",
        "colab_type": "code",
        "colab": {}
      },
      "source": [
        "tuple = spam, ham = 'yum', 'YUM'\n",
        "list = [spam, ham] = ['yum', 'YUM']\n",
        "print(tuple)\n",
        "print(list) "
      ],
      "execution_count": 0,
      "outputs": []
    },
    {
      "cell_type": "code",
      "metadata": {
        "id": "qi94aZ0gE6Td",
        "colab_type": "code",
        "colab": {}
      },
      "source": [
        "a, b, c, d = 'spam'\n",
        "print(a, b, c, d)\n",
        "\n",
        "a, *b = 'spam'\n",
        "print(a, b)\n",
        "\n",
        "a, *b, c = 'spam'\n",
        "print(a, b, c)\n"
      ],
      "execution_count": 0,
      "outputs": []
    },
    {
      "cell_type": "code",
      "metadata": {
        "id": "1L40eVKdFM59",
        "colab_type": "code",
        "colab": {}
      },
      "source": [
        "a, b, c = 'string'; b + 'string'"
      ],
      "execution_count": 0,
      "outputs": []
    },
    {
      "cell_type": "code",
      "metadata": {
        "id": "FYBHRCrYFfYB",
        "colab_type": "code",
        "colab": {}
      },
      "source": [
        "spam = 0; spam += 42\n",
        "print(spam)"
      ],
      "execution_count": 0,
      "outputs": []
    },
    {
      "cell_type": "markdown",
      "metadata": {
        "id": "M-pPb-cmLfe9",
        "colab_type": "text"
      },
      "source": [
        "<h1> Booleans, logical operators && if </h1>\n",
        "<h3> Until some wacky stuff begins to happen with if and boleans </h3>"
      ]
    },
    {
      "cell_type": "code",
      "metadata": {
        "id": "WT2vbX4YLlwv",
        "colab_type": "code",
        "outputId": "1e68de57-3500-4855-e7fb-e5237d20d7dd",
        "colab": {
          "base_uri": "https://localhost:8080/",
          "height": 232
        }
      },
      "source": [
        "a = 5\n",
        "if a == 5 or new_value_I_have_never_seen_before == 10:\n",
        "    print('Nice!')\n",
        "\n",
        "a = 5\n",
        "if a == 5 and new_value_I_have_never_seen_before == 10:\n",
        "    print('Nice!')"
      ],
      "execution_count": 0,
      "outputs": [
        {
          "output_type": "stream",
          "text": [
            "Nice!\n"
          ],
          "name": "stdout"
        },
        {
          "output_type": "error",
          "ename": "NameError",
          "evalue": "ignored",
          "traceback": [
            "\u001b[0;31m---------------------------------------------------------------------------\u001b[0m",
            "\u001b[0;31mNameError\u001b[0m                                 Traceback (most recent call last)",
            "\u001b[0;32m<ipython-input-1-8fbe7c843aa3>\u001b[0m in \u001b[0;36m<module>\u001b[0;34m()\u001b[0m\n\u001b[1;32m      4\u001b[0m \u001b[0;34m\u001b[0m\u001b[0m\n\u001b[1;32m      5\u001b[0m \u001b[0ma\u001b[0m \u001b[0;34m=\u001b[0m \u001b[0;36m5\u001b[0m\u001b[0;34m\u001b[0m\u001b[0;34m\u001b[0m\u001b[0m\n\u001b[0;32m----> 6\u001b[0;31m \u001b[0;32mif\u001b[0m \u001b[0ma\u001b[0m \u001b[0;34m==\u001b[0m \u001b[0;36m5\u001b[0m \u001b[0;32mand\u001b[0m \u001b[0mnew_value_I_have_never_seen_before\u001b[0m \u001b[0;34m==\u001b[0m \u001b[0;36m10\u001b[0m\u001b[0;34m:\u001b[0m\u001b[0;34m\u001b[0m\u001b[0;34m\u001b[0m\u001b[0m\n\u001b[0m\u001b[1;32m      7\u001b[0m     \u001b[0mprint\u001b[0m\u001b[0;34m(\u001b[0m\u001b[0;34m'Nice!'\u001b[0m\u001b[0;34m)\u001b[0m\u001b[0;34m\u001b[0m\u001b[0;34m\u001b[0m\u001b[0m\n",
            "\u001b[0;31mNameError\u001b[0m: name 'new_value_I_have_never_seen_before' is not defined"
          ]
        }
      ]
    },
    {
      "cell_type": "code",
      "metadata": {
        "id": "t1mzCTmSNBeW",
        "colab_type": "code",
        "colab": {}
      },
      "source": [
        "print(1 + False)\n",
        "print(1 + True)\n",
        "print(10 / True)\n",
        "print(10 / False)"
      ],
      "execution_count": 0,
      "outputs": []
    },
    {
      "cell_type": "markdown",
      "metadata": {
        "id": "AEHMgWcPOVBQ",
        "colab_type": "text"
      },
      "source": [
        "<h3> Fancy ternary syntax </h3>"
      ]
    },
    {
      "cell_type": "code",
      "metadata": {
        "id": "1XAAzTFSOGAU",
        "colab_type": "code",
        "colab": {}
      },
      "source": [
        "b = 'Nice'\n",
        "a = 'Nice' if b == 'Nice' else 'Not nice' \n",
        "print(a)"
      ],
      "execution_count": 0,
      "outputs": []
    },
    {
      "cell_type": "markdown",
      "metadata": {
        "id": "KftiO5rLQsjX",
        "colab_type": "text"
      },
      "source": [
        "<h1> Loops </h1>\n",
        "\n",
        "So a man stuck in a time loop walks into a bar...\n",
        "\n",
        "So a man stuck in a time loop walks into a bar...\n",
        "\n",
        "So a man stuck in a time loop walks into a bar...\n",
        "\n",
        "So a man stuck in a time loop walks into a bar...\n",
        "\n",
        "So a man stuck in a time loop walks into a bar...\n",
        "\n",
        "So a man stuck in a time loop walks into a bar...\n",
        "\n",
        "So a man stuck in a time loop walks into a bar..."
      ]
    },
    {
      "cell_type": "code",
      "metadata": {
        "id": "3HUWmq0yS1wH",
        "colab_type": "code",
        "colab": {}
      },
      "source": [
        "for i in range(5, 25, 3):\n",
        "    print(i)"
      ],
      "execution_count": 0,
      "outputs": []
    },
    {
      "cell_type": "code",
      "metadata": {
        "id": "0G12mmr4Q8Jr",
        "colab_type": "code",
        "colab": {}
      },
      "source": [
        "object_for_looping = ['Венци', 'не', 'веган', 'но', 'приятелка', 'веган', 'пратете', 'помощ', ':(' ]\n",
        "\n",
        "# How C++ kids do it\n",
        "for i in range(len(object_for_looping)):\n",
        "    print(object_for_looping[i])\n",
        "\n",
        "print('*'*30)  \n",
        "\n",
        "# How the cool kids do it\n",
        "for i in object_for_looping:\n",
        "    print(i)"
      ],
      "execution_count": 0,
      "outputs": []
    },
    {
      "cell_type": "code",
      "metadata": {
        "id": "G4-JZajgSa0S",
        "colab_type": "code",
        "colab": {}
      },
      "source": [
        "names = [\"Ventsi\", \"Vichka\", \"Bai Ivan\"]\n",
        "for i in names:\n",
        "    print(i)\n",
        "else:\n",
        "    print(\"Well this is strange and awkward at the same time!\")\n",
        "\n",
        "print('*'*30)    \n",
        "    \n",
        "for i in names:\n",
        "    if i == 'Bai Ivan':\n",
        "        break\n",
        "    print(i)\n",
        "else:\n",
        "    print(\"Well this is strange and awkward at the same time!\")"
      ],
      "execution_count": 0,
      "outputs": []
    },
    {
      "cell_type": "code",
      "metadata": {
        "id": "yCQn2MJkR0dA",
        "colab_type": "code",
        "colab": {}
      },
      "source": [
        "while(True):\n",
        "    print(\"So a man stuck in a time loop walks into a bar...\")"
      ],
      "execution_count": 0,
      "outputs": []
    },
    {
      "cell_type": "markdown",
      "metadata": {
        "id": "MRyRAwDVT9A9",
        "colab_type": "text"
      },
      "source": [
        "<h1> [Comprehensions, slici] # I did it on purpose to be funny </h1>"
      ]
    },
    {
      "cell_type": "code",
      "metadata": {
        "id": "weBx8T0PUHJi",
        "colab_type": "code",
        "colab": {}
      },
      "source": [
        "the_blue_pill_or_the_red_pill = [ [ 1 if item_idx == row_idx else 0 for item_idx in range(0, 3) ] for row_idx in range(0, 3) ] # ????????\n",
        "print(the_blue_pill_or_the_red_pill)"
      ],
      "execution_count": 0,
      "outputs": []
    },
    {
      "cell_type": "code",
      "metadata": {
        "id": "jIyON_vmRIeg",
        "colab_type": "code",
        "colab": {
          "base_uri": "https://localhost:8080/",
          "height": 34
        },
        "outputId": "9b4cf669-93bd-453d-a07c-603f30d3560e"
      },
      "source": [
        "even_numbers = [number for number in range(100)][::2]\n",
        "print(even_numbers)"
      ],
      "execution_count": 8,
      "outputs": [
        {
          "output_type": "stream",
          "text": [
            "[0, 2, 4, 6, 8, 10, 12, 14, 16, 18, 20, 22, 24, 26, 28, 30, 32, 34, 36, 38, 40, 42, 44, 46, 48, 50, 52, 54, 56, 58, 60, 62, 64, 66, 68, 70, 72, 74, 76, 78, 80, 82, 84, 86, 88, 90, 92, 94, 96, 98]\n"
          ],
          "name": "stdout"
        }
      ]
    }
  ]
}