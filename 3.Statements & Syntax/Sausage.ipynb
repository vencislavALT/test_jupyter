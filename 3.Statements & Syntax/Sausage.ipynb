{
  "nbformat": 4,
  "nbformat_minor": 0,
  "metadata": {
    "colab": {
      "name": "Sausage.ipynb",
      "version": "0.3.2",
      "provenance": [],
      "include_colab_link": true
    },
    "kernelspec": {
      "name": "python3",
      "display_name": "Python 3"
    }
  },
  "cells": [
    {
      "cell_type": "markdown",
      "metadata": {
        "id": "view-in-github",
        "colab_type": "text"
      },
      "source": [
        "<a href=\"https://colab.research.google.com/github/vencislavALT/test_jupyter/blob/master/3.Statements%20%26%20Syntax/Sausage.ipynb\" target=\"_parent\"><img src=\"https://colab.research.google.com/assets/colab-badge.svg\" alt=\"Open In Colab\"/></a>"
      ]
    },
    {
      "cell_type": "markdown",
      "metadata": {
        "id": "HmksA-nJUmG7",
        "colab_type": "text"
      },
      "source": [
        "<h1> Задача 1 </h1>\n",
        "Напишете програма, която обръща следното изречение на обратно \"Горчива обич нека ме опива. От старите винари още знам, че истинското вино е горчиво. За подсладено няма да те дам!\""
      ]
    },
    {
      "cell_type": "code",
      "metadata": {
        "id": "ZV21VRlnS6hh",
        "colab_type": "code",
        "colab": {}
      },
      "source": [
        "a = \"Горчива обич нека ме опива. От старите винари още знам, че истинското вино е горчиво. За подсладено няма да те дам!\""
      ],
      "execution_count": 0,
      "outputs": []
    },
    {
      "cell_type": "markdown",
      "metadata": {
        "id": "eo-b1thTTuiE",
        "colab_type": "text"
      },
      "source": [
        "<h1> Задача 2 </h1>\n",
        "Имате списъка а = [3, 4, 5, 8, 10, 15, 20].\n",
        "Генерирайте произволно число между 7 и 35 и проверете дали в списъка има 2 елемента, чийто сбор дава това число."
      ]
    },
    {
      "cell_type": "code",
      "metadata": {
        "id": "4sYoDiZYVwin",
        "colab_type": "code",
        "colab": {}
      },
      "source": [
        "а = [3, 4, 5, 8, 10, 15, 20]"
      ],
      "execution_count": 0,
      "outputs": []
    },
    {
      "cell_type": "markdown",
      "metadata": {
        "id": "bHELwyo-WgCg",
        "colab_type": "text"
      },
      "source": [
        "<h1> Задача 3 </h1>\n",
        "Напишете програма, която да изпринти следното нещо:\n",
        "\n",
        "\\* \n",
        "\n",
        "\\* * \n",
        "\n",
        "\\* * * \n",
        "\n",
        "\\* * * * \n",
        "\n",
        "\\* * * * * \n",
        "\n",
        "\\* * * * \n",
        "\n",
        "\\* * * \n",
        "\n",
        "\\* * \n",
        "\n",
        "\\*\n",
        "\n",
        "Ако някой го хардкодне, ще увелича звездичките в условието по 100."
      ]
    },
    {
      "cell_type": "code",
      "metadata": {
        "id": "trE40-wxWfTX",
        "colab_type": "code",
        "colab": {}
      },
      "source": [
        ""
      ],
      "execution_count": 0,
      "outputs": []
    },
    {
      "cell_type": "markdown",
      "metadata": {
        "id": "3Q-58N2kY329",
        "colab_type": "text"
      },
      "source": [
        "<h1> Задача 4 </h1>\n",
        "Напишете програма, която проверява валидността на дадена парола, по следните правила:\n",
        "\n",
        "\n",
        "*   поне една буква между [a-z] и [A-Z]\n",
        "*   поне една цифра между [0-9]\n",
        "*   поне един специален символ измежду !, @, $, %\n",
        "*   минимална дължина 6 символа, максимална 16 символа\n",
        "*   без други символи освен изредените по-горе"
      ]
    },
    {
      "cell_type": "code",
      "metadata": {
        "id": "Qw7xDd-MY2wq",
        "colab_type": "code",
        "colab": {}
      },
      "source": [
        "password = input()"
      ],
      "execution_count": 0,
      "outputs": []
    }
  ]
}